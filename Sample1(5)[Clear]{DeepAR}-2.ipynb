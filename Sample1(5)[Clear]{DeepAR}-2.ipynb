{
 "cells": [
  {
   "cell_type": "markdown",
   "id": "788db5d9",
   "metadata": {},
   "source": [
    "<font color=blue><font size =6> Data Explanation </font></font><br>\n",
    "이 데이터는 시계열 데이터 예측을 위한 Sample1(5)로 자세한 내용은 데이터 보안성에 의해 유출불가\n",
    "-> 따라서 일부 결과에 output이 누락 돼있을 수 있다( 단 중요 output은 나와있음 )\n",
    "\n",
    "이번에는 이전 project와의 차이점으로 prediction방식을 바꿔서 visualizing까지 해보겠다"
   ]
  },
  {
   "cell_type": "code",
   "execution_count": 2,
   "id": "fa83a73f",
   "metadata": {},
   "outputs": [],
   "source": [
    "import numpy as np\n",
    "import pandas as pd\n",
    "import matplotlib.pyplot as plt"
   ]
  },
  {
   "cell_type": "code",
   "execution_count": 3,
   "id": "216c3829",
   "metadata": {
    "scrolled": false
   },
   "outputs": [
    {
     "name": "stderr",
     "output_type": "stream",
     "text": [
      "/home/sjlee/sj_virtual/lib/python3.8/site-packages/tqdm/auto.py:22: TqdmWarning: IProgress not found. Please update jupyter and ipywidgets. See https://ipywidgets.readthedocs.io/en/stable/user_install.html\n",
      "  from .autonotebook import tqdm as notebook_tqdm\n"
     ]
    }
   ],
   "source": [
    "from pytorch_forecasting.data import TimeSeriesDataSet\n",
    "from pytorch_forecasting.models import DeepAR"
   ]
  },
  {
   "cell_type": "code",
   "execution_count": 4,
   "id": "3d53ac38",
   "metadata": {
    "scrolled": true
   },
   "outputs": [
    {
     "data": {
      "text/html": [
       "<div>\n",
       "<style scoped>\n",
       "    .dataframe tbody tr th:only-of-type {\n",
       "        vertical-align: middle;\n",
       "    }\n",
       "\n",
       "    .dataframe tbody tr th {\n",
       "        vertical-align: top;\n",
       "    }\n",
       "\n",
       "    .dataframe thead th {\n",
       "        text-align: right;\n",
       "    }\n",
       "</style>\n",
       "<table border=\"1\" class=\"dataframe\">\n",
       "  <thead>\n",
       "    <tr style=\"text-align: right;\">\n",
       "      <th></th>\n",
       "      <th>group_ids</th>\n",
       "      <th>b</th>\n",
       "      <th>values</th>\n",
       "      <th>c</th>\n",
       "      <th>d</th>\n",
       "    </tr>\n",
       "  </thead>\n",
       "  <tbody>\n",
       "    <tr>\n",
       "      <th>0</th>\n",
       "      <td>0</td>\n",
       "      <td>2018-07-25 00:00:00</td>\n",
       "      <td>92408</td>\n",
       "      <td>26971036</td>\n",
       "      <td>177711644</td>\n",
       "    </tr>\n",
       "    <tr>\n",
       "      <th>1</th>\n",
       "      <td>0</td>\n",
       "      <td>2018-07-25 00:01:00</td>\n",
       "      <td>92150</td>\n",
       "      <td>26948190</td>\n",
       "      <td>220370286</td>\n",
       "    </tr>\n",
       "    <tr>\n",
       "      <th>2</th>\n",
       "      <td>0</td>\n",
       "      <td>2018-07-25 00:02:00</td>\n",
       "      <td>94896</td>\n",
       "      <td>26238222</td>\n",
       "      <td>188035073</td>\n",
       "    </tr>\n",
       "    <tr>\n",
       "      <th>3</th>\n",
       "      <td>0</td>\n",
       "      <td>2018-07-25 00:03:00</td>\n",
       "      <td>92694</td>\n",
       "      <td>26087970</td>\n",
       "      <td>191997884</td>\n",
       "    </tr>\n",
       "    <tr>\n",
       "      <th>4</th>\n",
       "      <td>0</td>\n",
       "      <td>2018-07-25 00:04:00</td>\n",
       "      <td>93674</td>\n",
       "      <td>25314568</td>\n",
       "      <td>169497214</td>\n",
       "    </tr>\n",
       "    <tr>\n",
       "      <th>...</th>\n",
       "      <td>...</td>\n",
       "      <td>...</td>\n",
       "      <td>...</td>\n",
       "      <td>...</td>\n",
       "      <td>...</td>\n",
       "    </tr>\n",
       "    <tr>\n",
       "      <th>38875</th>\n",
       "      <td>0</td>\n",
       "      <td>2018-08-20 23:55:00</td>\n",
       "      <td>81521</td>\n",
       "      <td>23637112</td>\n",
       "      <td>138239574</td>\n",
       "    </tr>\n",
       "    <tr>\n",
       "      <th>38876</th>\n",
       "      <td>0</td>\n",
       "      <td>2018-08-20 23:56:00</td>\n",
       "      <td>83092</td>\n",
       "      <td>24617816</td>\n",
       "      <td>164460450</td>\n",
       "    </tr>\n",
       "    <tr>\n",
       "      <th>38877</th>\n",
       "      <td>0</td>\n",
       "      <td>2018-08-20 23:57:00</td>\n",
       "      <td>84873</td>\n",
       "      <td>25101336</td>\n",
       "      <td>173568370</td>\n",
       "    </tr>\n",
       "    <tr>\n",
       "      <th>38878</th>\n",
       "      <td>0</td>\n",
       "      <td>2018-08-20 23:58:00</td>\n",
       "      <td>81736</td>\n",
       "      <td>24181689</td>\n",
       "      <td>157334718</td>\n",
       "    </tr>\n",
       "    <tr>\n",
       "      <th>38879</th>\n",
       "      <td>0</td>\n",
       "      <td>2018-08-20 23:59:00</td>\n",
       "      <td>81236</td>\n",
       "      <td>23841156</td>\n",
       "      <td>167331442</td>\n",
       "    </tr>\n",
       "  </tbody>\n",
       "</table>\n",
       "<p>38880 rows × 5 columns</p>\n",
       "</div>"
      ],
      "text/plain": [
       "      group_ids                    b  values         c          d\n",
       "0             0  2018-07-25 00:00:00   92408  26971036  177711644\n",
       "1             0  2018-07-25 00:01:00   92150  26948190  220370286\n",
       "2             0  2018-07-25 00:02:00   94896  26238222  188035073\n",
       "3             0  2018-07-25 00:03:00   92694  26087970  191997884\n",
       "4             0  2018-07-25 00:04:00   93674  25314568  169497214\n",
       "...         ...                  ...     ...       ...        ...\n",
       "38875         0  2018-08-20 23:55:00   81521  23637112  138239574\n",
       "38876         0  2018-08-20 23:56:00   83092  24617816  164460450\n",
       "38877         0  2018-08-20 23:57:00   84873  25101336  173568370\n",
       "38878         0  2018-08-20 23:58:00   81736  24181689  157334718\n",
       "38879         0  2018-08-20 23:59:00   81236  23841156  167331442\n",
       "\n",
       "[38880 rows x 5 columns]"
      ]
     },
     "execution_count": 4,
     "metadata": {},
     "output_type": "execute_result"
    }
   ],
   "source": [
    "data = pd.read_csv('../data/5.csv')\n",
    "data.rename(columns={'a':'group_ids'},inplace=True)\n",
    "data['group_ids']=np.tile('0',len(data))\n",
    "data"
   ]
  },
  {
   "cell_type": "code",
   "execution_count": 5,
   "id": "2ed4680f",
   "metadata": {},
   "outputs": [],
   "source": [
    "data.drop(columns=['c','d'],axis=1,inplace=True)"
   ]
  },
  {
   "cell_type": "code",
   "execution_count": 32,
   "id": "c4cc14a5",
   "metadata": {},
   "outputs": [
    {
     "data": {
      "text/plain": [
       "group_ids    0\n",
       "b            0\n",
       "values       0\n",
       "dtype: int64"
      ]
     },
     "execution_count": 32,
     "metadata": {},
     "output_type": "execute_result"
    }
   ],
   "source": [
    "data.isnull().sum()"
   ]
  },
  {
   "cell_type": "code",
   "execution_count": 6,
   "id": "8a9c4084",
   "metadata": {
    "scrolled": true
   },
   "outputs": [
    {
     "data": {
      "text/html": [
       "<div>\n",
       "<style scoped>\n",
       "    .dataframe tbody tr th:only-of-type {\n",
       "        vertical-align: middle;\n",
       "    }\n",
       "\n",
       "    .dataframe tbody tr th {\n",
       "        vertical-align: top;\n",
       "    }\n",
       "\n",
       "    .dataframe thead th {\n",
       "        text-align: right;\n",
       "    }\n",
       "</style>\n",
       "<table border=\"1\" class=\"dataframe\">\n",
       "  <thead>\n",
       "    <tr style=\"text-align: right;\">\n",
       "      <th></th>\n",
       "      <th>group_ids</th>\n",
       "      <th>b</th>\n",
       "      <th>values</th>\n",
       "      <th>time_idx</th>\n",
       "    </tr>\n",
       "  </thead>\n",
       "  <tbody>\n",
       "    <tr>\n",
       "      <th>0</th>\n",
       "      <td>0</td>\n",
       "      <td>2018-07-25 00:00:00</td>\n",
       "      <td>92408.0</td>\n",
       "      <td>0</td>\n",
       "    </tr>\n",
       "    <tr>\n",
       "      <th>1</th>\n",
       "      <td>0</td>\n",
       "      <td>2018-07-25 00:01:00</td>\n",
       "      <td>92150.0</td>\n",
       "      <td>1</td>\n",
       "    </tr>\n",
       "    <tr>\n",
       "      <th>2</th>\n",
       "      <td>0</td>\n",
       "      <td>2018-07-25 00:02:00</td>\n",
       "      <td>94896.0</td>\n",
       "      <td>2</td>\n",
       "    </tr>\n",
       "    <tr>\n",
       "      <th>3</th>\n",
       "      <td>0</td>\n",
       "      <td>2018-07-25 00:03:00</td>\n",
       "      <td>92694.0</td>\n",
       "      <td>3</td>\n",
       "    </tr>\n",
       "    <tr>\n",
       "      <th>4</th>\n",
       "      <td>0</td>\n",
       "      <td>2018-07-25 00:04:00</td>\n",
       "      <td>93674.0</td>\n",
       "      <td>4</td>\n",
       "    </tr>\n",
       "    <tr>\n",
       "      <th>...</th>\n",
       "      <td>...</td>\n",
       "      <td>...</td>\n",
       "      <td>...</td>\n",
       "      <td>...</td>\n",
       "    </tr>\n",
       "    <tr>\n",
       "      <th>38875</th>\n",
       "      <td>0</td>\n",
       "      <td>2018-08-20 23:55:00</td>\n",
       "      <td>81521.0</td>\n",
       "      <td>38875</td>\n",
       "    </tr>\n",
       "    <tr>\n",
       "      <th>38876</th>\n",
       "      <td>0</td>\n",
       "      <td>2018-08-20 23:56:00</td>\n",
       "      <td>83092.0</td>\n",
       "      <td>38876</td>\n",
       "    </tr>\n",
       "    <tr>\n",
       "      <th>38877</th>\n",
       "      <td>0</td>\n",
       "      <td>2018-08-20 23:57:00</td>\n",
       "      <td>84873.0</td>\n",
       "      <td>38877</td>\n",
       "    </tr>\n",
       "    <tr>\n",
       "      <th>38878</th>\n",
       "      <td>0</td>\n",
       "      <td>2018-08-20 23:58:00</td>\n",
       "      <td>81736.0</td>\n",
       "      <td>38878</td>\n",
       "    </tr>\n",
       "    <tr>\n",
       "      <th>38879</th>\n",
       "      <td>0</td>\n",
       "      <td>2018-08-20 23:59:00</td>\n",
       "      <td>81236.0</td>\n",
       "      <td>38879</td>\n",
       "    </tr>\n",
       "  </tbody>\n",
       "</table>\n",
       "<p>38880 rows × 4 columns</p>\n",
       "</div>"
      ],
      "text/plain": [
       "      group_ids                   b   values  time_idx\n",
       "0             0 2018-07-25 00:00:00  92408.0         0\n",
       "1             0 2018-07-25 00:01:00  92150.0         1\n",
       "2             0 2018-07-25 00:02:00  94896.0         2\n",
       "3             0 2018-07-25 00:03:00  92694.0         3\n",
       "4             0 2018-07-25 00:04:00  93674.0         4\n",
       "...         ...                 ...      ...       ...\n",
       "38875         0 2018-08-20 23:55:00  81521.0     38875\n",
       "38876         0 2018-08-20 23:56:00  83092.0     38876\n",
       "38877         0 2018-08-20 23:57:00  84873.0     38877\n",
       "38878         0 2018-08-20 23:58:00  81736.0     38878\n",
       "38879         0 2018-08-20 23:59:00  81236.0     38879\n",
       "\n",
       "[38880 rows x 4 columns]"
      ]
     },
     "execution_count": 6,
     "metadata": {},
     "output_type": "execute_result"
    }
   ],
   "source": [
    "data['time_idx'] = np.tile(np.arange(len(data)),1) \n",
    "data['b'] = pd.to_datetime(data['b'])\n",
    "data['values'] = pd.to_numeric(data['values'],downcast='float')\n",
    "data"
   ]
  },
  {
   "cell_type": "code",
   "execution_count": 26,
   "id": "17f0060a",
   "metadata": {},
   "outputs": [
    {
     "data": {
      "text/plain": [
       "Timedelta('26 days 23:59:00')"
      ]
     },
     "execution_count": 26,
     "metadata": {},
     "output_type": "execute_result"
    }
   ],
   "source": [
    "data['b'].iloc[-1]-data['b'].iloc[0]"
   ]
  },
  {
   "cell_type": "markdown",
   "id": "24c7e14a",
   "metadata": {},
   "source": [
    "* 누락 데이터 없음"
   ]
  },
  {
   "cell_type": "markdown",
   "id": "3f485534",
   "metadata": {},
   "source": [
    "<font size=6><font color = blue> Set TimeSeriesDataSet </font></font>\n",
    "\n",
    "데이터는 총 38880개의 데이터를 갖고 있다 이를 train,test set으로 8:2의 비율로 나누고 train set에서 또 8:2의 비율로 validation set과 actual train set으로 나누겠다 따라서 다음의 데이터 개수를 갖게 된다\n",
    "\n",
    "TestSet: 7776<br>\n",
    "TrainSet: 24883<br>\n",
    "ValidationSet: 6221"
   ]
  },
  {
   "cell_type": "code",
   "execution_count": 34,
   "id": "388e2605",
   "metadata": {},
   "outputs": [],
   "source": [
    "Training_cutoff = 24883\n",
    "Train_df = data.iloc[:Training_cutoff+6221]\n",
    "Test_df = data.iloc[Training_cutoff+6221:]"
   ]
  },
  {
   "cell_type": "code",
   "execution_count": 35,
   "id": "0fff4abe",
   "metadata": {},
   "outputs": [],
   "source": [
    "max_encoder_length = 60\n",
    "max_prediction_length = 20\n",
    "min_encoder_length = max_encoder_length\n",
    "min_prediction_length = max_prediction_length"
   ]
  },
  {
   "cell_type": "code",
   "execution_count": 36,
   "id": "f66c7edd",
   "metadata": {},
   "outputs": [
    {
     "data": {
      "text/plain": [
       "TimeSeriesDataSet[length=24805](\n",
       "\ttime_idx='time_idx',\n",
       "\ttarget='values',\n",
       "\tgroup_ids=['group_ids'],\n",
       "\tweight=None,\n",
       "\tmax_encoder_length=60,\n",
       "\tmin_encoder_length=60,\n",
       "\tmin_prediction_idx=0,\n",
       "\tmin_prediction_length=20,\n",
       "\tmax_prediction_length=20,\n",
       "\tstatic_categoricals=[],\n",
       "\tstatic_reals=[],\n",
       "\ttime_varying_known_categoricals=[],\n",
       "\ttime_varying_known_reals=[],\n",
       "\ttime_varying_unknown_categoricals=[],\n",
       "\ttime_varying_unknown_reals=['values'],\n",
       "\tvariable_groups={},\n",
       "\tconstant_fill_strategy={},\n",
       "\tallow_missing_timesteps=False,\n",
       "\tlags={},\n",
       "\tadd_relative_time_idx=False,\n",
       "\tadd_target_scales=False,\n",
       "\tadd_encoder_length=False,\n",
       "\ttarget_normalizer=EncoderNormalizer(\n",
       "\tmethod='standard',\n",
       "\tcenter=True,\n",
       "\tmax_length=None,\n",
       "\ttransformation='relu',\n",
       "\tmethod_kwargs={}\n",
       "),\n",
       "\tcategorical_encoders={'__group_id__group_ids': NaNLabelEncoder(add_nan=False, warn=True)},\n",
       "\tscalers={},\n",
       "\trandomize_length=None,\n",
       "\tpredict_mode=False\n",
       ")"
      ]
     },
     "execution_count": 36,
     "metadata": {},
     "output_type": "execute_result"
    }
   ],
   "source": [
    "Train_tsd = TimeSeriesDataSet(\n",
    "    data = Train_df.iloc[:Training_cutoff+1],\n",
    "    time_idx = \"time_idx\",\n",
    "    target = \"values\",\n",
    "    group_ids = [\"group_ids\"],\n",
    "    max_encoder_length = max_encoder_length,\n",
    "    min_encoder_length = min_encoder_length,\n",
    "    max_prediction_length = max_prediction_length,\n",
    "    min_prediction_length = min_prediction_length,\n",
    "    time_varying_unknown_reals = [\"values\"]\n",
    ")\n",
    "Train_tsd"
   ]
  },
  {
   "cell_type": "code",
   "execution_count": 28,
   "id": "27168a53",
   "metadata": {},
   "outputs": [
    {
     "data": {
      "text/html": [
       "<div>\n",
       "<style scoped>\n",
       "    .dataframe tbody tr th:only-of-type {\n",
       "        vertical-align: middle;\n",
       "    }\n",
       "\n",
       "    .dataframe tbody tr th {\n",
       "        vertical-align: top;\n",
       "    }\n",
       "\n",
       "    .dataframe thead th {\n",
       "        text-align: right;\n",
       "    }\n",
       "</style>\n",
       "<table border=\"1\" class=\"dataframe\">\n",
       "  <thead>\n",
       "    <tr style=\"text-align: right;\">\n",
       "      <th></th>\n",
       "      <th>group_ids</th>\n",
       "      <th>datetime</th>\n",
       "      <th>volumn</th>\n",
       "      <th>time_idx</th>\n",
       "    </tr>\n",
       "  </thead>\n",
       "  <tbody>\n",
       "    <tr>\n",
       "      <th>24884</th>\n",
       "      <td>0</td>\n",
       "      <td>2018-08-11 06:44:00</td>\n",
       "      <td>112668.0</td>\n",
       "      <td>24884</td>\n",
       "    </tr>\n",
       "    <tr>\n",
       "      <th>24885</th>\n",
       "      <td>0</td>\n",
       "      <td>2018-08-11 06:45:00</td>\n",
       "      <td>115721.0</td>\n",
       "      <td>24885</td>\n",
       "    </tr>\n",
       "    <tr>\n",
       "      <th>24886</th>\n",
       "      <td>0</td>\n",
       "      <td>2018-08-11 06:46:00</td>\n",
       "      <td>117100.0</td>\n",
       "      <td>24886</td>\n",
       "    </tr>\n",
       "    <tr>\n",
       "      <th>24887</th>\n",
       "      <td>0</td>\n",
       "      <td>2018-08-11 06:47:00</td>\n",
       "      <td>118102.0</td>\n",
       "      <td>24887</td>\n",
       "    </tr>\n",
       "    <tr>\n",
       "      <th>24888</th>\n",
       "      <td>0</td>\n",
       "      <td>2018-08-11 06:48:00</td>\n",
       "      <td>115409.0</td>\n",
       "      <td>24888</td>\n",
       "    </tr>\n",
       "    <tr>\n",
       "      <th>...</th>\n",
       "      <td>...</td>\n",
       "      <td>...</td>\n",
       "      <td>...</td>\n",
       "      <td>...</td>\n",
       "    </tr>\n",
       "    <tr>\n",
       "      <th>31099</th>\n",
       "      <td>0</td>\n",
       "      <td>2018-08-15 14:19:00</td>\n",
       "      <td>361458.0</td>\n",
       "      <td>31099</td>\n",
       "    </tr>\n",
       "    <tr>\n",
       "      <th>31100</th>\n",
       "      <td>0</td>\n",
       "      <td>2018-08-15 14:20:00</td>\n",
       "      <td>360029.0</td>\n",
       "      <td>31100</td>\n",
       "    </tr>\n",
       "    <tr>\n",
       "      <th>31101</th>\n",
       "      <td>0</td>\n",
       "      <td>2018-08-15 14:21:00</td>\n",
       "      <td>361359.0</td>\n",
       "      <td>31101</td>\n",
       "    </tr>\n",
       "    <tr>\n",
       "      <th>31102</th>\n",
       "      <td>0</td>\n",
       "      <td>2018-08-15 14:22:00</td>\n",
       "      <td>366484.0</td>\n",
       "      <td>31102</td>\n",
       "    </tr>\n",
       "    <tr>\n",
       "      <th>31103</th>\n",
       "      <td>0</td>\n",
       "      <td>2018-08-15 14:23:00</td>\n",
       "      <td>361605.0</td>\n",
       "      <td>31103</td>\n",
       "    </tr>\n",
       "  </tbody>\n",
       "</table>\n",
       "<p>6220 rows × 4 columns</p>\n",
       "</div>"
      ],
      "text/plain": [
       "      group_ids            datetime    volumn  time_idx\n",
       "24884         0 2018-08-11 06:44:00  112668.0     24884\n",
       "24885         0 2018-08-11 06:45:00  115721.0     24885\n",
       "24886         0 2018-08-11 06:46:00  117100.0     24886\n",
       "24887         0 2018-08-11 06:47:00  118102.0     24887\n",
       "24888         0 2018-08-11 06:48:00  115409.0     24888\n",
       "...         ...                 ...       ...       ...\n",
       "31099         0 2018-08-15 14:19:00  361458.0     31099\n",
       "31100         0 2018-08-15 14:20:00  360029.0     31100\n",
       "31101         0 2018-08-15 14:21:00  361359.0     31101\n",
       "31102         0 2018-08-15 14:22:00  366484.0     31102\n",
       "31103         0 2018-08-15 14:23:00  361605.0     31103\n",
       "\n",
       "[6220 rows x 4 columns]"
      ]
     },
     "execution_count": 28,
     "metadata": {},
     "output_type": "execute_result"
    }
   ],
   "source": [
    "Validation = data.iloc[Training_cutoff+1:Training_cutoff+6221]\n",
    "Validation"
   ]
  },
  {
   "cell_type": "code",
   "execution_count": 29,
   "id": "10e45325",
   "metadata": {},
   "outputs": [],
   "source": [
    "batch_size = 64\n",
    "Train_loader = Train_tsd.to_dataloader(train = True,\n",
    "                                       batch_size = batch_size,\n",
    "                                       #batch_sampler = \"synchronized\",\n",
    "                                       num_workers = 0)"
   ]
  },
  {
   "cell_type": "markdown",
   "id": "6964a88d",
   "metadata": {},
   "source": [
    "<font size=6><font color = blue> Set Trainer </font></font>"
   ]
  },
  {
   "cell_type": "code",
   "execution_count": 23,
   "id": "692e7783",
   "metadata": {},
   "outputs": [],
   "source": [
    "import pytorch_lightning as pl\n",
    "from pytorch_lightning.callbacks import LearningRateFinder,EarlyStopping"
   ]
  },
  {
   "cell_type": "code",
   "execution_count": 32,
   "id": "0f9d9f4b",
   "metadata": {},
   "outputs": [],
   "source": [
    "lr_find = LearningRateFinder(min_lr = 1e-10,\n",
    "                            max_lr = 1,early_stop_threshold=10)\n",
    "early_stopping = EarlyStopping(monitor = 'val_loss', min_delta = 1e-2,\n",
    "                               patience = 10, verbose = True, mode = \"min\")"
   ]
  },
  {
   "cell_type": "code",
   "execution_count": 20,
   "id": "21660679",
   "metadata": {},
   "outputs": [
    {
     "name": "stderr",
     "output_type": "stream",
     "text": [
      "/home/sjlee/sj_virtual/lib/python3.8/site-packages/pytorch_lightning/trainer/connectors/accelerator_connector.py:441: LightningDeprecationWarning: Setting `Trainer(gpus=[0])` is deprecated in v1.7 and will be removed in v2.0. Please use `Trainer(accelerator='gpu', devices=[0])` instead.\n",
      "  rank_zero_deprecation(\n",
      "GPU available: True (cuda), used: True\n",
      "TPU available: False, using: 0 TPU cores\n",
      "IPU available: False, using: 0 IPUs\n",
      "HPU available: False, using: 0 HPUs\n"
     ]
    }
   ],
   "source": [
    "trainer = pl.Trainer(\n",
    "    gpus=[0],\n",
    "    gradient_clip_val = 0.1, #gradient_clip_val: The value at which to clip gradients\n",
    "    max_epochs = 50,\n",
    "    callbacks = [lr_find,early_stopping]\n",
    ")"
   ]
  },
  {
   "cell_type": "markdown",
   "id": "2ae7c7c8",
   "metadata": {},
   "source": [
    "<font size=6><font color = blue> Set Seed for reproduceable results</font></font>"
   ]
  },
  {
   "cell_type": "code",
   "execution_count": 21,
   "id": "04940769",
   "metadata": {},
   "outputs": [
    {
     "name": "stderr",
     "output_type": "stream",
     "text": [
      "Global seed set to 42\n"
     ]
    },
    {
     "data": {
      "text/plain": [
       "42"
      ]
     },
     "execution_count": 21,
     "metadata": {},
     "output_type": "execute_result"
    }
   ],
   "source": [
    "pl.seed_everything(42)"
   ]
  },
  {
   "cell_type": "markdown",
   "id": "f85e26fb",
   "metadata": {},
   "source": [
    "<font size=6><font color = blue> Set Model </font></font>"
   ]
  },
  {
   "cell_type": "code",
   "execution_count": 23,
   "id": "e54a1d0e",
   "metadata": {
    "scrolled": true
   },
   "outputs": [
    {
     "name": "stderr",
     "output_type": "stream",
     "text": [
      "/home/sjlee/sj_virtual/lib/python3.8/site-packages/pytorch_lightning/utilities/parsing.py:262: UserWarning: Attribute 'loss' is an instance of `nn.Module` and is already saved during checkpointing. It is recommended to ignore them using `self.save_hyperparameters(ignore=['loss'])`.\n",
      "  rank_zero_warn(\n",
      "/home/sjlee/sj_virtual/lib/python3.8/site-packages/pytorch_lightning/utilities/parsing.py:262: UserWarning: Attribute 'logging_metrics' is an instance of `nn.Module` and is already saved during checkpointing. It is recommended to ignore them using `self.save_hyperparameters(ignore=['logging_metrics'])`.\n",
      "  rank_zero_warn(\n"
     ]
    },
    {
     "data": {
      "text/plain": [
       "DeepAR(\n",
       "  \t\"categorical_groups\":                {}\n",
       "  \t\"cell_type\":                         LSTM\n",
       "  \t\"dropout\":                           0.1\n",
       "  \t\"embedding_labels\":                  {}\n",
       "  \t\"embedding_paddings\":                []\n",
       "  \t\"embedding_sizes\":                   {}\n",
       "  \t\"hidden_size\":                       16\n",
       "  \t\"learning_rate\":                     0.001\n",
       "  \t\"log_gradient_flow\":                 False\n",
       "  \t\"log_interval\":                      -1\n",
       "  \t\"log_val_interval\":                  -1\n",
       "  \t\"logging_metrics\":                   ModuleList(\n",
       "  \t  (0): SMAPE()\n",
       "  \t  (1): MAE()\n",
       "  \t  (2): RMSE()\n",
       "  \t  (3): MAPE()\n",
       "  \t  (4): MASE()\n",
       "  \t)\n",
       "  \t\"loss\":                              NormalDistributionLoss(quantiles=[0.02, 0.1, 0.25, 0.5, 0.75, 0.9, 0.98])\n",
       "  \t\"monotone_constaints\":               {}\n",
       "  \t\"n_plotting_samples\":                None\n",
       "  \t\"n_validation_samples\":              None\n",
       "  \t\"optimizer\":                         adam\n",
       "  \t\"optimizer_params\":                  None\n",
       "  \t\"output_transformer\":                EncoderNormalizer(\n",
       "  \t\tmethod='standard',\n",
       "  \t\tcenter=True,\n",
       "  \t\tmax_length=None,\n",
       "  \t\ttransformation='relu',\n",
       "  \t\tmethod_kwargs={}\n",
       "  \t)\n",
       "  \t\"reduce_on_plateau_min_lr\":          1e-05\n",
       "  \t\"reduce_on_plateau_patience\":        1000\n",
       "  \t\"reduce_on_plateau_reduction\":       2.0\n",
       "  \t\"rnn_layers\":                        2\n",
       "  \t\"static_categoricals\":               []\n",
       "  \t\"static_reals\":                      []\n",
       "  \t\"target\":                            volumn\n",
       "  \t\"target_lags\":                       {}\n",
       "  \t\"time_varying_categoricals_decoder\": []\n",
       "  \t\"time_varying_categoricals_encoder\": []\n",
       "  \t\"time_varying_reals_decoder\":        ['time_idx']\n",
       "  \t\"time_varying_reals_encoder\":        ['time_idx', 'volumn']\n",
       "  \t\"weight_decay\":                      0.0\n",
       "  \t\"x_categoricals\":                    []\n",
       "  \t\"x_reals\":                           ['time_idx', 'volumn']\n",
       "  (loss): NormalDistributionLoss(quantiles=[0.02, 0.1, 0.25, 0.5, 0.75, 0.9, 0.98])\n",
       "  (logging_metrics): ModuleList(\n",
       "    (0): SMAPE()\n",
       "    (1): MAE()\n",
       "    (2): RMSE()\n",
       "    (3): MAPE()\n",
       "    (4): MASE()\n",
       "  )\n",
       "  (embeddings): MultiEmbedding(\n",
       "    (embeddings): ModuleDict()\n",
       "  )\n",
       "  (rnn): LSTM(2, 16, num_layers=2, batch_first=True, dropout=0.1)\n",
       "  (distribution_projector): Linear(in_features=16, out_features=2, bias=True)\n",
       ")"
      ]
     },
     "execution_count": 23,
     "metadata": {},
     "output_type": "execute_result"
    }
   ],
   "source": [
    "net = DeepAR.from_dataset(training,\n",
    "                         rnn_layers = 2,\n",
    "                         hidden_size = 16, \n",
    "                        # Q. hidden_vector의 크기가 모델의 성능에 영향을 주나?\n",
    "                        #hidden_size (int, optional) – hidden recurrent size - the most important hyperparameter along with rnn_layers. Defaults to 10.\n",
    "                         optimizer = 'adam')\n",
    "net"
   ]
  },
  {
   "cell_type": "code",
   "execution_count": null,
   "id": "142b3120",
   "metadata": {},
   "outputs": [],
   "source": [
    "model = trainer.fit(net,\n",
    "                    train_dataloaders = Train_loader,\n",
    "                   )"
   ]
  },
  {
   "cell_type": "code",
   "execution_count": null,
   "id": "8fcaa752",
   "metadata": {},
   "outputs": [],
   "source": [
    "best_model_path = trainer.checkpoint_callback.best_model_path\n",
    "\"\"\"\n",
    "After training finishes, use best_model_path to retrieve the path \n",
    "to the best checkpoint file and best_model_score to retrieve its score.\n",
    "\"\"\"\n",
    "best_model_path"
   ]
  },
  {
   "cell_type": "code",
   "execution_count": 43,
   "id": "f460fd1f",
   "metadata": {},
   "outputs": [
    {
     "name": "stderr",
     "output_type": "stream",
     "text": [
      "/home/sjlee/sj_virtual/lib/python3.8/site-packages/pytorch_lightning/utilities/parsing.py:262: UserWarning: Attribute 'loss' is an instance of `nn.Module` and is already saved during checkpointing. It is recommended to ignore them using `self.save_hyperparameters(ignore=['loss'])`.\n",
      "  rank_zero_warn(\n",
      "/home/sjlee/sj_virtual/lib/python3.8/site-packages/pytorch_lightning/utilities/parsing.py:262: UserWarning: Attribute 'logging_metrics' is an instance of `nn.Module` and is already saved during checkpointing. It is recommended to ignore them using `self.save_hyperparameters(ignore=['logging_metrics'])`.\n",
      "  rank_zero_warn(\n"
     ]
    }
   ],
   "source": [
    "best_model = DeepAR.load_from_checkpoint(best_model_path)"
   ]
  },
  {
   "cell_type": "code",
   "execution_count": 63,
   "id": "134a1893",
   "metadata": {},
   "outputs": [],
   "source": [
    "predictions,x = best_model.predict(Validation,mode=\"prediction\",return_x=True)"
   ]
  },
  {
   "cell_type": "code",
   "execution_count": 64,
   "id": "bb05894d",
   "metadata": {},
   "outputs": [
    {
     "data": {
      "text/plain": [
       "tensor([[367154.7188, 366499.9062, 366969.3750, 367513.3750, 368276.8438,\n",
       "         368680.5312, 368020.9688, 368719.2500, 368755.3750, 368961.4062,\n",
       "         369098.4062, 368833.6875, 368945.5938, 369182.9688, 369699.1250,\n",
       "         369536.1875, 369500.4062, 369593.8125, 370039.5312, 369907.5938]])"
      ]
     },
     "execution_count": 64,
     "metadata": {},
     "output_type": "execute_result"
    }
   ],
   "source": [
    "predictions"
   ]
  },
  {
   "cell_type": "code",
   "execution_count": 51,
   "id": "638e8007",
   "metadata": {
    "scrolled": true
   },
   "outputs": [
    {
     "data": {
      "text/plain": [
       "{'encoder_cat': tensor([], size=(1, 60, 0), dtype=torch.int64),\n",
       " 'encoder_cont': tensor([[[ 1.1249],\n",
       "          [ 1.6210],\n",
       "          [ 2.2254],\n",
       "          [ 1.9931],\n",
       "          [ 1.4028],\n",
       "          [ 1.0707],\n",
       "          [ 1.3464],\n",
       "          [ 0.5816],\n",
       "          [ 1.4746],\n",
       "          [ 1.8037],\n",
       "          [ 1.6419],\n",
       "          [ 1.2712],\n",
       "          [ 0.8790],\n",
       "          [ 1.3188],\n",
       "          [ 0.4597],\n",
       "          [ 0.3974],\n",
       "          [ 1.0781],\n",
       "          [ 0.4444],\n",
       "          [ 0.0598],\n",
       "          [-1.2207],\n",
       "          [-0.6513],\n",
       "          [ 0.7944],\n",
       "          [-0.6693],\n",
       "          [-1.3802],\n",
       "          [ 0.2519],\n",
       "          [-0.0350],\n",
       "          [-0.9111],\n",
       "          [-1.0865],\n",
       "          [-1.2153],\n",
       "          [ 0.1713],\n",
       "          [-0.1853],\n",
       "          [ 0.5525],\n",
       "          [ 0.4657],\n",
       "          [-0.4321],\n",
       "          [-1.2018],\n",
       "          [-0.3455],\n",
       "          [-0.5251],\n",
       "          [-1.4950],\n",
       "          [-0.8086],\n",
       "          [-1.3933],\n",
       "          [-0.3503],\n",
       "          [-0.4554],\n",
       "          [-0.2171],\n",
       "          [-0.3609],\n",
       "          [-0.7907],\n",
       "          [ 0.6270],\n",
       "          [ 0.0357],\n",
       "          [-0.6288],\n",
       "          [-1.4491],\n",
       "          [-0.0404],\n",
       "          [-0.2132],\n",
       "          [-0.3872],\n",
       "          [-0.5422],\n",
       "          [-0.9346],\n",
       "          [-0.6669],\n",
       "          [-1.7463],\n",
       "          [-0.9010],\n",
       "          [-0.3923],\n",
       "          [-0.9816],\n",
       "          [-0.4793]]]),\n",
       " 'encoder_target': tensor([[376266., 378735., 381743., 380587., 377649., 375996., 377368., 373562.,\n",
       "          378006., 379644., 378839., 376994., 375042., 377231., 372955., 372645.,\n",
       "          376033., 372879., 370965., 364592., 367426., 374621., 367336., 363798.,\n",
       "          371921., 370493., 366133., 365260., 364619., 371520., 369745., 373417.,\n",
       "          372985., 368517., 364686., 368948., 368054., 363227., 366643., 363733.,\n",
       "          368924., 368401., 369587., 368871., 366732., 373788., 370845., 367538.,\n",
       "          363455., 370466., 369606., 368740., 367969., 366016., 367348., 361976.,\n",
       "          366183., 368715., 365782., 368282.]]),\n",
       " 'encoder_lengths': tensor([60]),\n",
       " 'decoder_cat': tensor([], size=(1, 20, 0), dtype=torch.int64),\n",
       " 'decoder_cont': tensor([[[-1.1090],\n",
       "          [-1.1719],\n",
       "          [-1.8209],\n",
       "          [-1.4813],\n",
       "          [-1.8789],\n",
       "          [-0.9484],\n",
       "          [-1.7885],\n",
       "          [-1.4126],\n",
       "          [-1.2474],\n",
       "          [-1.5257],\n",
       "          [-1.9890],\n",
       "          [-1.9977],\n",
       "          [-2.2336],\n",
       "          [-3.1510],\n",
       "          [-2.1526],\n",
       "          [-1.8504],\n",
       "          [-2.1375],\n",
       "          [-1.8703],\n",
       "          [-0.8405],\n",
       "          [-1.8209]]]),\n",
       " 'decoder_target': tensor([[365148., 364835., 361605., 363295., 361316., 365947., 361766., 363637.,\n",
       "          364459., 363074., 360768., 360725., 359551., 354985., 359954., 361458.,\n",
       "          360029., 361359., 366484., 361605.]]),\n",
       " 'decoder_lengths': tensor([20]),\n",
       " 'decoder_time_idx': tensor([[31084, 31085, 31086, 31087, 31088, 31089, 31090, 31091, 31092, 31093,\n",
       "          31094, 31095, 31096, 31097, 31098, 31099, 31100, 31101, 31102, 31103]]),\n",
       " 'groups': tensor([[0]]),\n",
       " 'target_scale': tensor([[370667.2812,   4976.9180]])}"
      ]
     },
     "execution_count": 51,
     "metadata": {},
     "output_type": "execute_result"
    }
   ],
   "source": [
    "x"
   ]
  },
  {
   "cell_type": "code",
   "execution_count": 62,
   "id": "a74bd819",
   "metadata": {
    "scrolled": true
   },
   "outputs": [
    {
     "data": {
      "text/plain": [
       "group_ids                      0\n",
       "datetime     2018-08-15 13:05:00\n",
       "volumn                  378735.0\n",
       "time_idx                   31025\n",
       "Name: 31025, dtype: object"
      ]
     },
     "execution_count": 62,
     "metadata": {},
     "output_type": "execute_result"
    }
   ],
   "source": [
    "Validation.iloc[-79]"
   ]
  },
  {
   "cell_type": "markdown",
   "id": "c7eb5835",
   "metadata": {},
   "source": [
    "~~Validation의 -80번째 행부터 -21번째 행까지 사용해서 -20번째부터 -1번째까지 예측을 한것을 볼 수 있다 내가 원하는 것은 validation 전체를 예측하는 것인데 이를 해결하기 위해선 prediction_length가 validation을 덮도록 조정해야한다~~\n",
    "\n",
    "<font color = blue><br>\n",
    "~~ prediction_length가 너무 길게 조정되면 예측 오류가 쌓이므로 마지막에는 안좋은 예측결과가 나올것이다 따라서 train_set 크기 자체를 늘리고 validation_set 크기를 줄이는 방향으로 코딩해보자 </font>\n",
    "-> validation set의 크기 자체는 작아도 괜찮을 것 같다\n",
    "~~"
   ]
  },
  {
   "attachments": {
    "image-2.png": {
     "image/png": "[encoded data removed]"
    },
    "image.png": {
     "image/png": "[encoded data removed]"
    }
   },
   "cell_type": "markdown",
   "id": "8f5e628f",
   "metadata": {},
   "source": [
    "<font color = blue> <font size = 5> 좀더 깊이 생각해 봤을때 </font></font>\n",
    "\n",
    "--------------------------val_dataloader를 사용했을때--------------------------------\n",
    "![image-2.png](attachment:image-2.png)\n",
    "--------------------------val_dataloader를 사용안했을때------------------------------\n",
    "![image.png](attachment:image.png) \n",
    "\n",
    "Val_dataloader를 사용했을때는 Val_dataloader의 97개의 batch를 빼고 387개의 Batch를 가진 train_dataloader로 training을 한후 97개의 Val_dataloader batch로 loss를 계산한다\n",
    "<font color=blue>이때 하나의 배치당 loss값이 계산이 될텐데 이를 97개에 배치의 갯수만큼 평균을 내는지 아니면 마지막 loss값을 쓰는지는 알아봐야한다</font>\n",
    "마지막 까지 계산이 된후 Validation loss를 갱신한다<br>\n",
    "~~시계열에서 val_dataloader를 사용해서 가중치 갱신을 하므로 test set을 예측할때 모델의 Val_dataloader 만큼의 time에 대한 공백을 생각하지 않는다 &rightarrow; ~~(validation set은 가중치 갱신에 사용하지 않음)\n",
    "\n",
    "<font color=red><font size=5>결과적으로 validation set으로 조정한 파라미터를 통해서 training set 전체를 학습하고 test set의 크기만큼을 prediction하게 하면 된다 이는 test 크기 자체를 줄이면 된다</font></font>\n",
    "\n"
   ]
  },
  {
   "cell_type": "markdown",
   "id": "46c2b115",
   "metadata": {},
   "source": [
    "* Validation Set Train Set Test Set의 개념 재정리\n",
    "본래 Training Set에서 따로 Validation Set을 만들고 Training Set으로 Training을 한 이후 모델의 하이퍼 파라미터에 따른 성능평가를 위해서 Validation Set을 이용하고  최종적으로 general한 성능평가를 위해서 Test Set을 사용한다\n",
    "\n",
    "- 이때 validation set은 학습에 이용되면 안된다\n",
    "\n",
    "- <font color=blue>굳이 train과 test set으로 하이퍼 파라미터 튜닝을 하지 않고 validation set을 만든이유</font> &rightarrow; 2중 점검을 위해 , 즉 test set으로만 하이퍼 파라미터 튜닝을 했을때 test set에만 잘맞는 모델이 될 수 있으므로(=과적합) 일반성을 갖추기 위해서 validation set을 만든 것이다"
   ]
  },
  {
   "cell_type": "markdown",
   "id": "ccede927",
   "metadata": {},
   "source": [
    "<font color=blue><font size =6>Again</font></font><br>"
   ]
  },
  {
   "cell_type": "markdown",
   "id": "0660f1ff",
   "metadata": {},
   "source": [
    "<font color=blue><font size =3>여기선 이미 튜닝이 끝났다고 가정하자</font></font><br>"
   ]
  },
  {
   "cell_type": "code",
   "execution_count": 37,
   "id": "4a5a5ad9",
   "metadata": {},
   "outputs": [],
   "source": [
    "Training_cutoff = 38800\n",
    "Train_df = data.iloc[:Training_cutoff]\n",
    "\n",
    "#Test_df = data.iloc[38860:] -> 38800부터 38880까지 구성돼야한다"
   ]
  },
  {
   "cell_type": "code",
   "execution_count": 38,
   "id": "d86fa23c",
   "metadata": {},
   "outputs": [
    {
     "data": {
      "text/html": [
       "<div>\n",
       "<style scoped>\n",
       "    .dataframe tbody tr th:only-of-type {\n",
       "        vertical-align: middle;\n",
       "    }\n",
       "\n",
       "    .dataframe tbody tr th {\n",
       "        vertical-align: top;\n",
       "    }\n",
       "\n",
       "    .dataframe thead th {\n",
       "        text-align: right;\n",
       "    }\n",
       "</style>\n",
       "<table border=\"1\" class=\"dataframe\">\n",
       "  <thead>\n",
       "    <tr style=\"text-align: right;\">\n",
       "      <th></th>\n",
       "      <th>group_ids</th>\n",
       "      <th>b</th>\n",
       "      <th>values</th>\n",
       "      <th>time_idx</th>\n",
       "    </tr>\n",
       "  </thead>\n",
       "  <tbody>\n",
       "    <tr>\n",
       "      <th>31104</th>\n",
       "      <td>0</td>\n",
       "      <td>2018-08-15 14:24:00</td>\n",
       "      <td>357299.0</td>\n",
       "      <td>31104</td>\n",
       "    </tr>\n",
       "    <tr>\n",
       "      <th>31105</th>\n",
       "      <td>0</td>\n",
       "      <td>2018-08-15 14:25:00</td>\n",
       "      <td>357021.0</td>\n",
       "      <td>31105</td>\n",
       "    </tr>\n",
       "    <tr>\n",
       "      <th>31106</th>\n",
       "      <td>0</td>\n",
       "      <td>2018-08-15 14:26:00</td>\n",
       "      <td>354683.0</td>\n",
       "      <td>31106</td>\n",
       "    </tr>\n",
       "    <tr>\n",
       "      <th>31107</th>\n",
       "      <td>0</td>\n",
       "      <td>2018-08-15 14:27:00</td>\n",
       "      <td>355371.0</td>\n",
       "      <td>31107</td>\n",
       "    </tr>\n",
       "    <tr>\n",
       "      <th>31108</th>\n",
       "      <td>0</td>\n",
       "      <td>2018-08-15 14:28:00</td>\n",
       "      <td>358426.0</td>\n",
       "      <td>31108</td>\n",
       "    </tr>\n",
       "    <tr>\n",
       "      <th>...</th>\n",
       "      <td>...</td>\n",
       "      <td>...</td>\n",
       "      <td>...</td>\n",
       "      <td>...</td>\n",
       "    </tr>\n",
       "    <tr>\n",
       "      <th>38875</th>\n",
       "      <td>0</td>\n",
       "      <td>2018-08-20 23:55:00</td>\n",
       "      <td>81521.0</td>\n",
       "      <td>38875</td>\n",
       "    </tr>\n",
       "    <tr>\n",
       "      <th>38876</th>\n",
       "      <td>0</td>\n",
       "      <td>2018-08-20 23:56:00</td>\n",
       "      <td>83092.0</td>\n",
       "      <td>38876</td>\n",
       "    </tr>\n",
       "    <tr>\n",
       "      <th>38877</th>\n",
       "      <td>0</td>\n",
       "      <td>2018-08-20 23:57:00</td>\n",
       "      <td>84873.0</td>\n",
       "      <td>38877</td>\n",
       "    </tr>\n",
       "    <tr>\n",
       "      <th>38878</th>\n",
       "      <td>0</td>\n",
       "      <td>2018-08-20 23:58:00</td>\n",
       "      <td>81736.0</td>\n",
       "      <td>38878</td>\n",
       "    </tr>\n",
       "    <tr>\n",
       "      <th>38879</th>\n",
       "      <td>0</td>\n",
       "      <td>2018-08-20 23:59:00</td>\n",
       "      <td>81236.0</td>\n",
       "      <td>38879</td>\n",
       "    </tr>\n",
       "  </tbody>\n",
       "</table>\n",
       "<p>7776 rows × 4 columns</p>\n",
       "</div>"
      ],
      "text/plain": [
       "      group_ids                   b    values  time_idx\n",
       "31104         0 2018-08-15 14:24:00  357299.0     31104\n",
       "31105         0 2018-08-15 14:25:00  357021.0     31105\n",
       "31106         0 2018-08-15 14:26:00  354683.0     31106\n",
       "31107         0 2018-08-15 14:27:00  355371.0     31107\n",
       "31108         0 2018-08-15 14:28:00  358426.0     31108\n",
       "...         ...                 ...       ...       ...\n",
       "38875         0 2018-08-20 23:55:00   81521.0     38875\n",
       "38876         0 2018-08-20 23:56:00   83092.0     38876\n",
       "38877         0 2018-08-20 23:57:00   84873.0     38877\n",
       "38878         0 2018-08-20 23:58:00   81736.0     38878\n",
       "38879         0 2018-08-20 23:59:00   81236.0     38879\n",
       "\n",
       "[7776 rows x 4 columns]"
      ]
     },
     "execution_count": 38,
     "metadata": {},
     "output_type": "execute_result"
    }
   ],
   "source": [
    "Test_df"
   ]
  },
  {
   "cell_type": "code",
   "execution_count": 90,
   "id": "fbc699fc",
   "metadata": {},
   "outputs": [
    {
     "data": {
      "text/plain": [
       "TimeSeriesDataSet[length=38781](\n",
       "\ttime_idx='time_idx',\n",
       "\ttarget='volumn',\n",
       "\tgroup_ids=['group_ids'],\n",
       "\tweight=None,\n",
       "\tmax_encoder_length=60,\n",
       "\tmin_encoder_length=60,\n",
       "\tmin_prediction_idx=0,\n",
       "\tmin_prediction_length=20,\n",
       "\tmax_prediction_length=20,\n",
       "\tstatic_categoricals=[],\n",
       "\tstatic_reals=[],\n",
       "\ttime_varying_known_categoricals=[],\n",
       "\ttime_varying_known_reals=[],\n",
       "\ttime_varying_unknown_categoricals=[],\n",
       "\ttime_varying_unknown_reals=['volumn'],\n",
       "\tvariable_groups={},\n",
       "\tconstant_fill_strategy={},\n",
       "\tallow_missing_timesteps=False,\n",
       "\tlags={},\n",
       "\tadd_relative_time_idx=False,\n",
       "\tadd_target_scales=False,\n",
       "\tadd_encoder_length=False,\n",
       "\ttarget_normalizer=EncoderNormalizer(\n",
       "\tmethod='standard',\n",
       "\tcenter=True,\n",
       "\tmax_length=None,\n",
       "\ttransformation='relu',\n",
       "\tmethod_kwargs={}\n",
       "),\n",
       "\tcategorical_encoders={'__group_id__group_ids': NaNLabelEncoder(add_nan=False, warn=True)},\n",
       "\tscalers={},\n",
       "\trandomize_length=None,\n",
       "\tpredict_mode=False\n",
       ")"
      ]
     },
     "execution_count": 90,
     "metadata": {},
     "output_type": "execute_result"
    }
   ],
   "source": [
    "Train_tsd = TimeSeriesDataSet(\n",
    "    data = Train_df,\n",
    "    time_idx = \"time_idx\",\n",
    "    target = \"values\",\n",
    "    group_ids = [\"group_ids\"],\n",
    "    max_encoder_length = max_encoder_length,\n",
    "    min_encoder_length = min_encoder_length,\n",
    "    max_prediction_length = max_prediction_length,\n",
    "    min_prediction_length = min_prediction_length,\n",
    "    time_varying_unknown_reals = [\"values\"]\n",
    ")\n",
    "Train_tsd"
   ]
  },
  {
   "cell_type": "code",
   "execution_count": 91,
   "id": "844dbc4c",
   "metadata": {},
   "outputs": [
    {
     "data": {
      "text/plain": [
       "'\\nVal_loader = Val_tsd.to_dataloader(train = False,\\n                                       batch_size = batch_size,\\n                                       #batch_sampler = \"synchronized\",\\n                                       num_workers = 0)\\n                                       '"
      ]
     },
     "execution_count": 91,
     "metadata": {},
     "output_type": "execute_result"
    }
   ],
   "source": [
    "batch_size = 64\n",
    "Train_loader = Train_tsd.to_dataloader(train = True,\n",
    "                                       batch_size = batch_size,\n",
    "                                       #batch_sampler = \"synchronized\",\n",
    "                                       num_workers = 0)\n",
    "\"\"\"\n",
    "Val_loader = Val_tsd.to_dataloader(train = False,\n",
    "                                       batch_size = batch_size,\n",
    "                                       #batch_sampler = \"synchronized\",\n",
    "                                       num_workers = 0)\n",
    "                                       \"\"\""
   ]
  },
  {
   "cell_type": "code",
   "execution_count": 96,
   "id": "e49be117",
   "metadata": {},
   "outputs": [],
   "source": [
    "lr_find = LearningRateFinder(min_lr = 1e-10,\n",
    "                            max_lr = 1,early_stop_threshold=10)\n",
    "early_stopping = EarlyStopping(monitor = 'train_loss', min_delta = 1e-2,\n",
    "                               patience = 10, verbose = True, mode = \"min\")"
   ]
  },
  {
   "cell_type": "code",
   "execution_count": 97,
   "id": "ebcc4ad1",
   "metadata": {},
   "outputs": [
    {
     "name": "stderr",
     "output_type": "stream",
     "text": [
      "GPU available: False, used: False\n",
      "TPU available: False, using: 0 TPU cores\n",
      "IPU available: False, using: 0 IPUs\n",
      "HPU available: False, using: 0 HPUs\n"
     ]
    }
   ],
   "source": [
    "trainer = pl.Trainer(\n",
    "    gradient_clip_val = 0.1, #gradient_clip_val: The value at which to clip gradients\n",
    "    auto_select_gpus=True,\n",
    "    max_epochs = 50,\n",
    "    callbacks = [lr_find,early_stopping]\n",
    ")"
   ]
  },
  {
   "cell_type": "code",
   "execution_count": 98,
   "id": "78c49c7b",
   "metadata": {
    "scrolled": true
   },
   "outputs": [
    {
     "name": "stderr",
     "output_type": "stream",
     "text": [
      "/home/sjlee/sj_virtual/lib/python3.8/site-packages/pytorch_lightning/utilities/parsing.py:262: UserWarning: Attribute 'loss' is an instance of `nn.Module` and is already saved during checkpointing. It is recommended to ignore them using `self.save_hyperparameters(ignore=['loss'])`.\n",
      "  rank_zero_warn(\n",
      "/home/sjlee/sj_virtual/lib/python3.8/site-packages/pytorch_lightning/utilities/parsing.py:262: UserWarning: Attribute 'logging_metrics' is an instance of `nn.Module` and is already saved during checkpointing. It is recommended to ignore them using `self.save_hyperparameters(ignore=['logging_metrics'])`.\n",
      "  rank_zero_warn(\n"
     ]
    },
    {
     "data": {
      "text/plain": [
       "DeepAR(\n",
       "  \t\"categorical_groups\":                {}\n",
       "  \t\"cell_type\":                         LSTM\n",
       "  \t\"dropout\":                           0.1\n",
       "  \t\"embedding_labels\":                  {}\n",
       "  \t\"embedding_paddings\":                []\n",
       "  \t\"embedding_sizes\":                   {}\n",
       "  \t\"hidden_size\":                       30\n",
       "  \t\"learning_rate\":                     0.001\n",
       "  \t\"log_gradient_flow\":                 False\n",
       "  \t\"log_interval\":                      -1\n",
       "  \t\"log_val_interval\":                  -1\n",
       "  \t\"logging_metrics\":                   ModuleList(\n",
       "  \t  (0): SMAPE()\n",
       "  \t  (1): MAE()\n",
       "  \t  (2): RMSE()\n",
       "  \t  (3): MAPE()\n",
       "  \t  (4): MASE()\n",
       "  \t)\n",
       "  \t\"loss\":                              NormalDistributionLoss(quantiles=[0.02, 0.1, 0.25, 0.5, 0.75, 0.9, 0.98])\n",
       "  \t\"monotone_constaints\":               {}\n",
       "  \t\"n_plotting_samples\":                None\n",
       "  \t\"n_validation_samples\":              None\n",
       "  \t\"optimizer\":                         adam\n",
       "  \t\"optimizer_params\":                  None\n",
       "  \t\"output_transformer\":                EncoderNormalizer(\n",
       "  \t\tmethod='standard',\n",
       "  \t\tcenter=True,\n",
       "  \t\tmax_length=None,\n",
       "  \t\ttransformation='relu',\n",
       "  \t\tmethod_kwargs={}\n",
       "  \t)\n",
       "  \t\"reduce_on_plateau_min_lr\":          1e-05\n",
       "  \t\"reduce_on_plateau_patience\":        1000\n",
       "  \t\"reduce_on_plateau_reduction\":       2.0\n",
       "  \t\"rnn_layers\":                        2\n",
       "  \t\"static_categoricals\":               []\n",
       "  \t\"static_reals\":                      []\n",
       "  \t\"target\":                            volumn\n",
       "  \t\"target_lags\":                       {}\n",
       "  \t\"time_varying_categoricals_decoder\": []\n",
       "  \t\"time_varying_categoricals_encoder\": []\n",
       "  \t\"time_varying_reals_decoder\":        []\n",
       "  \t\"time_varying_reals_encoder\":        ['volumn']\n",
       "  \t\"weight_decay\":                      0.0\n",
       "  \t\"x_categoricals\":                    []\n",
       "  \t\"x_reals\":                           ['volumn']\n",
       "  (loss): NormalDistributionLoss(quantiles=[0.02, 0.1, 0.25, 0.5, 0.75, 0.9, 0.98])\n",
       "  (logging_metrics): ModuleList(\n",
       "    (0): SMAPE()\n",
       "    (1): MAE()\n",
       "    (2): RMSE()\n",
       "    (3): MAPE()\n",
       "    (4): MASE()\n",
       "  )\n",
       "  (embeddings): MultiEmbedding(\n",
       "    (embeddings): ModuleDict()\n",
       "  )\n",
       "  (rnn): LSTM(1, 30, num_layers=2, batch_first=True, dropout=0.1)\n",
       "  (distribution_projector): Linear(in_features=30, out_features=2, bias=True)\n",
       ")"
      ]
     },
     "execution_count": 98,
     "metadata": {},
     "output_type": "execute_result"
    }
   ],
   "source": [
    "net = DeepAR.from_dataset(Train_tsd,\n",
    "                         rnn_layers = 2,\n",
    "                         hidden_size = 30, \n",
    "                         optimizer = 'adam')\n",
    "net"
   ]
  },
  {
   "cell_type": "code",
   "execution_count": null,
   "id": "40707104",
   "metadata": {},
   "outputs": [],
   "source": [
    "model = trainer.fit(net,\n",
    "                    train_dataloaders = train_dataloader\n",
    "                   )"
   ]
  },
  {
   "cell_type": "code",
   "execution_count": null,
   "id": "6f74f4e0",
   "metadata": {},
   "outputs": [],
   "source": [
    "best_model_path = trainer.checkpoint_callback.best_model_path\n",
    "best_model_path"
   ]
  },
  {
   "cell_type": "code",
   "execution_count": 104,
   "id": "07b3c4af",
   "metadata": {},
   "outputs": [
    {
     "name": "stderr",
     "output_type": "stream",
     "text": [
      "/home/sjlee/sj_virtual/lib/python3.8/site-packages/pytorch_lightning/utilities/parsing.py:262: UserWarning: Attribute 'loss' is an instance of `nn.Module` and is already saved during checkpointing. It is recommended to ignore them using `self.save_hyperparameters(ignore=['loss'])`.\n",
      "  rank_zero_warn(\n",
      "/home/sjlee/sj_virtual/lib/python3.8/site-packages/pytorch_lightning/utilities/parsing.py:262: UserWarning: Attribute 'logging_metrics' is an instance of `nn.Module` and is already saved during checkpointing. It is recommended to ignore them using `self.save_hyperparameters(ignore=['logging_metrics'])`.\n",
      "  rank_zero_warn(\n"
     ]
    }
   ],
   "source": [
    "best_model = DeepAR.load_from_checkpoint(best_model_path)"
   ]
  },
  {
   "cell_type": "markdown",
   "id": "3d6b57ab",
   "metadata": {},
   "source": [
    "<font color=blue><font size =6>Consist of prediction DataFrame</font></font><br>"
   ]
  },
  {
   "cell_type": "code",
   "execution_count": 100,
   "id": "491d210e",
   "metadata": {},
   "outputs": [],
   "source": [
    "Test_df = data.iloc[38800:]"
   ]
  },
  {
   "cell_type": "code",
   "execution_count": 129,
   "id": "3d18b54b",
   "metadata": {
    "scrolled": true
   },
   "outputs": [
    {
     "data": {
      "text/plain": [
       "tensor([[91352.6406, 91223.0703, 90639.9375, 90168.4375, 89055.6328, 89018.6719,\n",
       "         88783.7422, 88787.7578, 88915.3594, 88210.7188, 87455.0312, 87426.7734,\n",
       "         86879.9766, 86669.1016, 86954.9688, 86782.1719, 85712.4375, 85980.0234,\n",
       "         84995.0391, 84832.2188]])"
      ]
     },
     "execution_count": 129,
     "metadata": {},
     "output_type": "execute_result"
    }
   ],
   "source": [
    "predictions = best_model.predict(Test_df,mode=\"prediction\")\n",
    "predictions"
   ]
  },
  {
   "cell_type": "code",
   "execution_count": 126,
   "id": "dd0a54eb",
   "metadata": {},
   "outputs": [],
   "source": [
    "import torch"
   ]
  },
  {
   "cell_type": "code",
   "execution_count": 127,
   "id": "d9534d6f",
   "metadata": {},
   "outputs": [
    {
     "data": {
      "text/plain": [
       "tensor([[89545., 83891., 85957., 87756., 88420., 91795., 92315., 91016., 83358.,\n",
       "         83648., 83990., 82390., 82801., 83198., 83787., 81521., 83092., 84873.,\n",
       "         81736., 81236.]])"
      ]
     },
     "execution_count": 127,
     "metadata": {},
     "output_type": "execute_result"
    }
   ],
   "source": [
    "actuals = np.array(data['values'].iloc[38860:38880]).reshape((1,-1))\n",
    "actuals = torch.tensor(actuals)\n",
    "actuals"
   ]
  },
  {
   "cell_type": "code",
   "execution_count": 45,
   "id": "80f2bd97",
   "metadata": {},
   "outputs": [],
   "source": [
    "from pytorch_forecasting.metrics import RMSE,SMAPE"
   ]
  },
  {
   "cell_type": "code",
   "execution_count": 120,
   "id": "d75ecde7",
   "metadata": {
    "scrolled": true
   },
   "outputs": [
    {
     "name": "stdout",
     "output_type": "stream",
     "text": [
      "tensor(3269.7747)\n",
      "tensor(0.0333)\n"
     ]
    }
   ],
   "source": [
    "rmse_score = RMSE()(predictions,actuals)\n",
    "smape_score = SMAPE()(predictions,actuals)\n",
    "print(rmse_score)\n",
    "print(smape_score)"
   ]
  },
  {
   "cell_type": "code",
   "execution_count": 133,
   "id": "ba512679",
   "metadata": {},
   "outputs": [
    {
     "data": {
      "image/png": "[encoded data removed]",
      "text/plain": [
       "<Figure size 1200x800 with 1 Axes>"
      ]
     },
     "metadata": {},
     "output_type": "display_data"
    }
   ],
   "source": [
    "fig,ax = plt.subplots(1,1,figsize=(12,8))\n",
    "ax.plot(data['b'].iloc[-60:],data['values'].iloc[-60:]);\n",
    "ax.plot(data['b'].iloc[-20:],predictions[0]);\n",
    "plt.xticks(rotation=90);"
   ]
  },
  {
   "cell_type": "markdown",
   "id": "0ef5c52c",
   "metadata": {},
   "source": [
    "<font color=blue><font size =6>Again Conclusion</font></font><br>\n",
    "움직임을 어느정도 반영하긴 하지만 변동이 과소평가 되는 경향이 있다 하지만 quantile 예측을 하는경우 괜찮은 결과를 볼 수 있을것 같다\n",
    "(모델을 한번 돌리는데 시간이 너무 오래걸려 아래에 quantile plot을 해보겠다)"
   ]
  },
  {
   "cell_type": "markdown",
   "id": "4acba127",
   "metadata": {},
   "source": [
    "<font color=blue><font size =6>ReAgain</font></font><br>"
   ]
  },
  {
   "cell_type": "code",
   "execution_count": 9,
   "id": "b4cf6d09",
   "metadata": {},
   "outputs": [
    {
     "data": {
      "text/plain": [
       "37439"
      ]
     },
     "execution_count": 9,
     "metadata": {},
     "output_type": "execute_result"
    }
   ],
   "source": [
    "max_prediction_length = 1440 # forecast 1 Day\n",
    "max_encoder_length = 2880 # use 2 Day\n",
    "training_cutoff = max(data['time_idx'])-max_prediction_length\n",
    "training_cutoff"
   ]
  },
  {
   "cell_type": "code",
   "execution_count": 10,
   "id": "b4d2e710",
   "metadata": {
    "scrolled": true
   },
   "outputs": [
    {
     "data": {
      "text/plain": [
       "TimeSeriesDataSet[length=33121](\n",
       "\ttime_idx='time_idx',\n",
       "\ttarget='volumn',\n",
       "\tgroup_ids=['group_ids'],\n",
       "\tweight=None,\n",
       "\tmax_encoder_length=2880,\n",
       "\tmin_encoder_length=2880,\n",
       "\tmin_prediction_idx=0,\n",
       "\tmin_prediction_length=1440,\n",
       "\tmax_prediction_length=1440,\n",
       "\tstatic_categoricals=[],\n",
       "\tstatic_reals=[],\n",
       "\ttime_varying_known_categoricals=[],\n",
       "\ttime_varying_known_reals=['time_idx'],\n",
       "\ttime_varying_unknown_categoricals=[],\n",
       "\ttime_varying_unknown_reals=['volumn'],\n",
       "\tvariable_groups={},\n",
       "\tconstant_fill_strategy={},\n",
       "\tallow_missing_timesteps=False,\n",
       "\tlags={},\n",
       "\tadd_relative_time_idx=False,\n",
       "\tadd_target_scales=False,\n",
       "\tadd_encoder_length=False,\n",
       "\ttarget_normalizer=EncoderNormalizer(\n",
       "\tmethod='standard',\n",
       "\tcenter=True,\n",
       "\tmax_length=None,\n",
       "\ttransformation='relu',\n",
       "\tmethod_kwargs={}\n",
       "),\n",
       "\tcategorical_encoders={'__group_id__group_ids': NaNLabelEncoder(add_nan=False, warn=True)},\n",
       "\tscalers={'time_idx': StandardScaler()},\n",
       "\trandomize_length=None,\n",
       "\tpredict_mode=False\n",
       ")"
      ]
     },
     "execution_count": 10,
     "metadata": {},
     "output_type": "execute_result"
    }
   ],
   "source": [
    "training = TimeSeriesDataSet(\n",
    "    data[lambda x : x['time_idx']<=training_cutoff],\n",
    "    max_encoder_length = max_encoder_length,\n",
    "    min_encoder_length = max_encoder_length,\n",
    "    min_prediction_length = max_prediction_length,\n",
    "    max_prediction_length = max_prediction_length,\n",
    "    time_idx = 'time_idx',\n",
    "    group_ids = ['group_ids'],\n",
    "    target = 'values',\n",
    "    time_varying_unknown_reals=['values'],\n",
    "    time_varying_known_reals=[\"time_idx\"],\n",
    "\n",
    ")\n",
    "training"
   ]
  },
  {
   "cell_type": "code",
   "execution_count": 11,
   "id": "ad3a77bb",
   "metadata": {},
   "outputs": [],
   "source": [
    "validation = TimeSeriesDataSet.from_dataset(\n",
    "    training, data, predict=True,stop_randomization=True\n",
    ")"
   ]
  },
  {
   "cell_type": "code",
   "execution_count": 12,
   "id": "6065b5d0",
   "metadata": {},
   "outputs": [],
   "source": [
    "batch_size = 16\n",
    "train_dataloader = training.to_dataloader(\n",
    "    train=True, batch_size=batch_size, num_workers=0\n",
    ")\n",
    "val_dataloader = validation.to_dataloader(\n",
    "    train=False, batch_size=batch_size, num_workers=0\n",
    ")"
   ]
  },
  {
   "cell_type": "code",
   "execution_count": 13,
   "id": "4d5edab4",
   "metadata": {},
   "outputs": [
    {
     "ename": "NameError",
     "evalue": "name 'pl' is not defined",
     "output_type": "error",
     "traceback": [
      "\u001b[0;31m---------------------------------------------------------------------------\u001b[0m",
      "\u001b[0;31mNameError\u001b[0m                                 Traceback (most recent call last)",
      "Cell \u001b[0;32mIn[13], line 1\u001b[0m\n\u001b[0;32m----> 1\u001b[0m trainer \u001b[38;5;241m=\u001b[39m \u001b[43mpl\u001b[49m\u001b[38;5;241m.\u001b[39mTrainer(\n\u001b[1;32m      2\u001b[0m     gpus\u001b[38;5;241m=\u001b[39m[\u001b[38;5;241m0\u001b[39m],\n\u001b[1;32m      3\u001b[0m     gradient_clip_val \u001b[38;5;241m=\u001b[39m \u001b[38;5;241m0.1\u001b[39m, \u001b[38;5;66;03m#gradient_clip_val: The value at which to clip gradients\u001b[39;00m\n\u001b[1;32m      4\u001b[0m     max_epochs \u001b[38;5;241m=\u001b[39m \u001b[38;5;241m50\u001b[39m,\n\u001b[1;32m      5\u001b[0m     callbacks \u001b[38;5;241m=\u001b[39m [lr_find,early_stopping]\n\u001b[1;32m      6\u001b[0m )\n",
      "\u001b[0;31mNameError\u001b[0m: name 'pl' is not defined"
     ]
    }
   ],
   "source": [
    "trainer = pl.Trainer(\n",
    "    gpus=[0],\n",
    "    gradient_clip_val = 0.1, #gradient_clip_val: The value at which to clip gradients\n",
    "    max_epochs = 50,\n",
    "    callbacks = [lr_find,early_stopping]\n",
    ")"
   ]
  },
  {
   "cell_type": "code",
   "execution_count": 75,
   "id": "31e20dae",
   "metadata": {
    "scrolled": true
   },
   "outputs": [
    {
     "data": {
      "text/plain": [
       "DeepAR(\n",
       "  \t\"categorical_groups\":                {}\n",
       "  \t\"cell_type\":                         LSTM\n",
       "  \t\"dropout\":                           0.1\n",
       "  \t\"embedding_labels\":                  {}\n",
       "  \t\"embedding_paddings\":                []\n",
       "  \t\"embedding_sizes\":                   {}\n",
       "  \t\"hidden_size\":                       16\n",
       "  \t\"learning_rate\":                     0.001\n",
       "  \t\"log_gradient_flow\":                 False\n",
       "  \t\"log_interval\":                      -1\n",
       "  \t\"log_val_interval\":                  -1\n",
       "  \t\"logging_metrics\":                   ModuleList(\n",
       "  \t  (0): SMAPE()\n",
       "  \t  (1): MAE()\n",
       "  \t  (2): RMSE()\n",
       "  \t  (3): MAPE()\n",
       "  \t  (4): MASE()\n",
       "  \t)\n",
       "  \t\"loss\":                              NormalDistributionLoss(quantiles=[0.02, 0.1, 0.25, 0.5, 0.75, 0.9, 0.98])\n",
       "  \t\"monotone_constaints\":               {}\n",
       "  \t\"n_plotting_samples\":                None\n",
       "  \t\"n_validation_samples\":              None\n",
       "  \t\"optimizer\":                         adam\n",
       "  \t\"optimizer_params\":                  None\n",
       "  \t\"output_transformer\":                EncoderNormalizer(\n",
       "  \t\tmethod='standard',\n",
       "  \t\tcenter=True,\n",
       "  \t\tmax_length=None,\n",
       "  \t\ttransformation='relu',\n",
       "  \t\tmethod_kwargs={}\n",
       "  \t)\n",
       "  \t\"reduce_on_plateau_min_lr\":          1e-05\n",
       "  \t\"reduce_on_plateau_patience\":        1000\n",
       "  \t\"reduce_on_plateau_reduction\":       2.0\n",
       "  \t\"rnn_layers\":                        2\n",
       "  \t\"static_categoricals\":               []\n",
       "  \t\"static_reals\":                      []\n",
       "  \t\"target\":                            volumn\n",
       "  \t\"target_lags\":                       {}\n",
       "  \t\"time_varying_categoricals_decoder\": []\n",
       "  \t\"time_varying_categoricals_encoder\": []\n",
       "  \t\"time_varying_reals_decoder\":        ['time_idx']\n",
       "  \t\"time_varying_reals_encoder\":        ['time_idx', 'volumn']\n",
       "  \t\"weight_decay\":                      0.0\n",
       "  \t\"x_categoricals\":                    []\n",
       "  \t\"x_reals\":                           ['time_idx', 'volumn']\n",
       "  (loss): NormalDistributionLoss(quantiles=[0.02, 0.1, 0.25, 0.5, 0.75, 0.9, 0.98])\n",
       "  (logging_metrics): ModuleList(\n",
       "    (0): SMAPE()\n",
       "    (1): MAE()\n",
       "    (2): RMSE()\n",
       "    (3): MAPE()\n",
       "    (4): MASE()\n",
       "  )\n",
       "  (embeddings): MultiEmbedding(\n",
       "    (embeddings): ModuleDict()\n",
       "  )\n",
       "  (rnn): LSTM(2, 16, num_layers=2, batch_first=True, dropout=0.1)\n",
       "  (distribution_projector): Linear(in_features=16, out_features=2, bias=True)\n",
       ")"
      ]
     },
     "execution_count": 75,
     "metadata": {},
     "output_type": "execute_result"
    }
   ],
   "source": [
    "net = DeepAR.from_dataset(training,\n",
    "                         rnn_layers = 2,\n",
    "                         hidden_size = 16,\n",
    "                        # Q. hidden_vector의 크기가 모델의 성능에 영향을 주나?\n",
    "                        #hidden_size (int, optional) – hidden recurrent size - the most important hyperparameter along with rnn_layers. Defaults to 10.\n",
    "                         optimizer = 'adam')\n",
    "\n",
    "net"
   ]
  },
  {
   "cell_type": "code",
   "execution_count": null,
   "id": "9c587c3f",
   "metadata": {},
   "outputs": [],
   "source": [
    "model = trainer.fit(net,\n",
    "                    train_dataloaders = train_dataloader,\n",
    "                    val_dataloaders= val_dataloader\n",
    "                   )"
   ]
  },
  {
   "cell_type": "code",
   "execution_count": null,
   "id": "77fb4833",
   "metadata": {},
   "outputs": [],
   "source": [
    "best_model_path = trainer.checkpoint_callback.best_model_path\n",
    "best_model_path"
   ]
  },
  {
   "cell_type": "code",
   "execution_count": 32,
   "id": "8af177c2",
   "metadata": {},
   "outputs": [
    {
     "name": "stderr",
     "output_type": "stream",
     "text": [
      "/home/sjlee/sj_virtual/lib/python3.8/site-packages/pytorch_lightning/utilities/parsing.py:262: UserWarning: Attribute 'loss' is an instance of `nn.Module` and is already saved during checkpointing. It is recommended to ignore them using `self.save_hyperparameters(ignore=['loss'])`.\n",
      "  rank_zero_warn(\n",
      "/home/sjlee/sj_virtual/lib/python3.8/site-packages/pytorch_lightning/utilities/parsing.py:262: UserWarning: Attribute 'logging_metrics' is an instance of `nn.Module` and is already saved during checkpointing. It is recommended to ignore them using `self.save_hyperparameters(ignore=['logging_metrics'])`.\n",
      "  rank_zero_warn(\n"
     ]
    }
   ],
   "source": [
    "best_model = DeepAR.load_from_checkpoint(best_model_path)"
   ]
  },
  {
   "cell_type": "code",
   "execution_count": 34,
   "id": "34a623d1",
   "metadata": {},
   "outputs": [],
   "source": [
    "predictions,x=best_model.predict(val_dataloader,mode=\"raw\",return_x=True)"
   ]
  },
  {
   "cell_type": "code",
   "execution_count": 42,
   "id": "2fd4ffa6",
   "metadata": {},
   "outputs": [
    {
     "data": {
      "image/png": "[encoded data removed]",
      "text/plain": [
       "<Figure size 640x480 with 1 Axes>"
      ]
     },
     "metadata": {},
     "output_type": "display_data"
    }
   ],
   "source": [
    "best_model.plot_prediction(x,predictions,idx=0);"
   ]
  },
  {
   "cell_type": "code",
   "execution_count": 48,
   "id": "ec9c371d",
   "metadata": {},
   "outputs": [
    {
     "name": "stdout",
     "output_type": "stream",
     "text": [
      "tensor(165678.8125)\n",
      "tensor(0.8500)\n"
     ]
    }
   ],
   "source": [
    "import torch\n",
    "actuals = torch.cat([y[0] for x, y in iter(val_dataloader)])\n",
    "predictions = best_model.predict(val_dataloader,mode='prediction')\n",
    "print(RMSE()(predictions,actuals))\n",
    "print(SMAPE()(predictions,actuals))"
   ]
  },
  {
   "cell_type": "markdown",
   "id": "37e83782",
   "metadata": {},
   "source": [
    "<font color=blue><font size =6>ReAgain Conclusion</font></font><br>\n",
    "전체적으로 주기가 적게 평가 된 경향이 있다 TFT에 비교해 낮은 성능을 보인다"
   ]
  },
  {
   "cell_type": "markdown",
   "id": "0ec230ce",
   "metadata": {},
   "source": [
    "~~time_varying_reals_encoder = ['volumn'],<br>\n",
    "time_varying_reals_decoder = ['volumn'],<br>\n",
    "추가시 오류 발생<br>\n",
    "AssertionError: Encoder and decoder variables have to be the same apart from target variable~~"
   ]
  },
  {
   "cell_type": "markdown",
   "id": "2f51daa7",
   "metadata": {},
   "source": [
    "<font color=blue><font size =6>FInal Again</font></font>"
   ]
  },
  {
   "cell_type": "code",
   "execution_count": 39,
   "id": "b09ff5fb",
   "metadata": {},
   "outputs": [
    {
     "data": {
      "text/html": [
       "<div>\n",
       "<style scoped>\n",
       "    .dataframe tbody tr th:only-of-type {\n",
       "        vertical-align: middle;\n",
       "    }\n",
       "\n",
       "    .dataframe tbody tr th {\n",
       "        vertical-align: top;\n",
       "    }\n",
       "\n",
       "    .dataframe thead th {\n",
       "        text-align: right;\n",
       "    }\n",
       "</style>\n",
       "<table border=\"1\" class=\"dataframe\">\n",
       "  <thead>\n",
       "    <tr style=\"text-align: right;\">\n",
       "      <th></th>\n",
       "      <th>group_ids</th>\n",
       "      <th>b</th>\n",
       "      <th>values</th>\n",
       "      <th>time_idx</th>\n",
       "    </tr>\n",
       "  </thead>\n",
       "  <tbody>\n",
       "    <tr>\n",
       "      <th>0</th>\n",
       "      <td>0</td>\n",
       "      <td>2018-07-25 00:00:00</td>\n",
       "      <td>92408.0</td>\n",
       "      <td>0</td>\n",
       "    </tr>\n",
       "    <tr>\n",
       "      <th>1</th>\n",
       "      <td>0</td>\n",
       "      <td>2018-07-25 00:01:00</td>\n",
       "      <td>92150.0</td>\n",
       "      <td>1</td>\n",
       "    </tr>\n",
       "    <tr>\n",
       "      <th>2</th>\n",
       "      <td>0</td>\n",
       "      <td>2018-07-25 00:02:00</td>\n",
       "      <td>94896.0</td>\n",
       "      <td>2</td>\n",
       "    </tr>\n",
       "    <tr>\n",
       "      <th>3</th>\n",
       "      <td>0</td>\n",
       "      <td>2018-07-25 00:03:00</td>\n",
       "      <td>92694.0</td>\n",
       "      <td>3</td>\n",
       "    </tr>\n",
       "    <tr>\n",
       "      <th>4</th>\n",
       "      <td>0</td>\n",
       "      <td>2018-07-25 00:04:00</td>\n",
       "      <td>93674.0</td>\n",
       "      <td>4</td>\n",
       "    </tr>\n",
       "    <tr>\n",
       "      <th>...</th>\n",
       "      <td>...</td>\n",
       "      <td>...</td>\n",
       "      <td>...</td>\n",
       "      <td>...</td>\n",
       "    </tr>\n",
       "    <tr>\n",
       "      <th>38875</th>\n",
       "      <td>0</td>\n",
       "      <td>2018-08-20 23:55:00</td>\n",
       "      <td>81521.0</td>\n",
       "      <td>38875</td>\n",
       "    </tr>\n",
       "    <tr>\n",
       "      <th>38876</th>\n",
       "      <td>0</td>\n",
       "      <td>2018-08-20 23:56:00</td>\n",
       "      <td>83092.0</td>\n",
       "      <td>38876</td>\n",
       "    </tr>\n",
       "    <tr>\n",
       "      <th>38877</th>\n",
       "      <td>0</td>\n",
       "      <td>2018-08-20 23:57:00</td>\n",
       "      <td>84873.0</td>\n",
       "      <td>38877</td>\n",
       "    </tr>\n",
       "    <tr>\n",
       "      <th>38878</th>\n",
       "      <td>0</td>\n",
       "      <td>2018-08-20 23:58:00</td>\n",
       "      <td>81736.0</td>\n",
       "      <td>38878</td>\n",
       "    </tr>\n",
       "    <tr>\n",
       "      <th>38879</th>\n",
       "      <td>0</td>\n",
       "      <td>2018-08-20 23:59:00</td>\n",
       "      <td>81236.0</td>\n",
       "      <td>38879</td>\n",
       "    </tr>\n",
       "  </tbody>\n",
       "</table>\n",
       "<p>38880 rows × 4 columns</p>\n",
       "</div>"
      ],
      "text/plain": [
       "      group_ids                   b   values  time_idx\n",
       "0             0 2018-07-25 00:00:00  92408.0         0\n",
       "1             0 2018-07-25 00:01:00  92150.0         1\n",
       "2             0 2018-07-25 00:02:00  94896.0         2\n",
       "3             0 2018-07-25 00:03:00  92694.0         3\n",
       "4             0 2018-07-25 00:04:00  93674.0         4\n",
       "...         ...                 ...      ...       ...\n",
       "38875         0 2018-08-20 23:55:00  81521.0     38875\n",
       "38876         0 2018-08-20 23:56:00  83092.0     38876\n",
       "38877         0 2018-08-20 23:57:00  84873.0     38877\n",
       "38878         0 2018-08-20 23:58:00  81736.0     38878\n",
       "38879         0 2018-08-20 23:59:00  81236.0     38879\n",
       "\n",
       "[38880 rows x 4 columns]"
      ]
     },
     "execution_count": 39,
     "metadata": {},
     "output_type": "execute_result"
    }
   ],
   "source": [
    "data"
   ]
  },
  {
   "cell_type": "code",
   "execution_count": 40,
   "id": "4710534f",
   "metadata": {},
   "outputs": [
    {
     "data": {
      "text/html": [
       "<div>\n",
       "<style scoped>\n",
       "    .dataframe tbody tr th:only-of-type {\n",
       "        vertical-align: middle;\n",
       "    }\n",
       "\n",
       "    .dataframe tbody tr th {\n",
       "        vertical-align: top;\n",
       "    }\n",
       "\n",
       "    .dataframe thead th {\n",
       "        text-align: right;\n",
       "    }\n",
       "</style>\n",
       "<table border=\"1\" class=\"dataframe\">\n",
       "  <thead>\n",
       "    <tr style=\"text-align: right;\">\n",
       "      <th></th>\n",
       "      <th>group_ids</th>\n",
       "      <th>b</th>\n",
       "      <th>values</th>\n",
       "      <th>time_idx</th>\n",
       "      <th>new_sub_pred</th>\n",
       "    </tr>\n",
       "  </thead>\n",
       "  <tbody>\n",
       "    <tr>\n",
       "      <th>0</th>\n",
       "      <td>0</td>\n",
       "      <td>2018-07-25 00:00:00</td>\n",
       "      <td>92408.0</td>\n",
       "      <td>0</td>\n",
       "      <td>1</td>\n",
       "    </tr>\n",
       "    <tr>\n",
       "      <th>1</th>\n",
       "      <td>0</td>\n",
       "      <td>2018-07-25 00:01:00</td>\n",
       "      <td>92150.0</td>\n",
       "      <td>1</td>\n",
       "      <td>2</td>\n",
       "    </tr>\n",
       "    <tr>\n",
       "      <th>2</th>\n",
       "      <td>0</td>\n",
       "      <td>2018-07-25 00:02:00</td>\n",
       "      <td>94896.0</td>\n",
       "      <td>2</td>\n",
       "      <td>3</td>\n",
       "    </tr>\n",
       "    <tr>\n",
       "      <th>3</th>\n",
       "      <td>0</td>\n",
       "      <td>2018-07-25 00:03:00</td>\n",
       "      <td>92694.0</td>\n",
       "      <td>3</td>\n",
       "      <td>4</td>\n",
       "    </tr>\n",
       "    <tr>\n",
       "      <th>4</th>\n",
       "      <td>0</td>\n",
       "      <td>2018-07-25 00:04:00</td>\n",
       "      <td>93674.0</td>\n",
       "      <td>4</td>\n",
       "      <td>5</td>\n",
       "    </tr>\n",
       "    <tr>\n",
       "      <th>...</th>\n",
       "      <td>...</td>\n",
       "      <td>...</td>\n",
       "      <td>...</td>\n",
       "      <td>...</td>\n",
       "      <td>...</td>\n",
       "    </tr>\n",
       "    <tr>\n",
       "      <th>38875</th>\n",
       "      <td>0</td>\n",
       "      <td>2018-08-20 23:55:00</td>\n",
       "      <td>81521.0</td>\n",
       "      <td>38875</td>\n",
       "      <td>1436</td>\n",
       "    </tr>\n",
       "    <tr>\n",
       "      <th>38876</th>\n",
       "      <td>0</td>\n",
       "      <td>2018-08-20 23:56:00</td>\n",
       "      <td>83092.0</td>\n",
       "      <td>38876</td>\n",
       "      <td>1437</td>\n",
       "    </tr>\n",
       "    <tr>\n",
       "      <th>38877</th>\n",
       "      <td>0</td>\n",
       "      <td>2018-08-20 23:57:00</td>\n",
       "      <td>84873.0</td>\n",
       "      <td>38877</td>\n",
       "      <td>1438</td>\n",
       "    </tr>\n",
       "    <tr>\n",
       "      <th>38878</th>\n",
       "      <td>0</td>\n",
       "      <td>2018-08-20 23:58:00</td>\n",
       "      <td>81736.0</td>\n",
       "      <td>38878</td>\n",
       "      <td>1439</td>\n",
       "    </tr>\n",
       "    <tr>\n",
       "      <th>38879</th>\n",
       "      <td>0</td>\n",
       "      <td>2018-08-20 23:59:00</td>\n",
       "      <td>81236.0</td>\n",
       "      <td>38879</td>\n",
       "      <td>1440</td>\n",
       "    </tr>\n",
       "  </tbody>\n",
       "</table>\n",
       "<p>38880 rows × 5 columns</p>\n",
       "</div>"
      ],
      "text/plain": [
       "      group_ids                   b   values  time_idx  new_sub_pred\n",
       "0             0 2018-07-25 00:00:00  92408.0         0             1\n",
       "1             0 2018-07-25 00:01:00  92150.0         1             2\n",
       "2             0 2018-07-25 00:02:00  94896.0         2             3\n",
       "3             0 2018-07-25 00:03:00  92694.0         3             4\n",
       "4             0 2018-07-25 00:04:00  93674.0         4             5\n",
       "...         ...                 ...      ...       ...           ...\n",
       "38875         0 2018-08-20 23:55:00  81521.0     38875          1436\n",
       "38876         0 2018-08-20 23:56:00  83092.0     38876          1437\n",
       "38877         0 2018-08-20 23:57:00  84873.0     38877          1438\n",
       "38878         0 2018-08-20 23:58:00  81736.0     38878          1439\n",
       "38879         0 2018-08-20 23:59:00  81236.0     38879          1440\n",
       "\n",
       "[38880 rows x 5 columns]"
      ]
     },
     "execution_count": 40,
     "metadata": {},
     "output_type": "execute_result"
    }
   ],
   "source": [
    "data['new_sub_pred']= np.tile(np.arange(1,1441),27)\n",
    "data"
   ]
  },
  {
   "cell_type": "code",
   "execution_count": 18,
   "id": "cfb4ed2d",
   "metadata": {},
   "outputs": [],
   "source": [
    "max_prediction_length = 1440 # forecast 1 Day\n",
    "max_encoder_length = 2880 # use 2 Day\n",
    "training_cutoff = max(data['time_idx'])-max_prediction_length\n",
    "training_cutoff\n",
    "\n",
    "final_training = TimeSeriesDataSet(\n",
    "    data,\n",
    "    max_encoder_length = max_encoder_length,\n",
    "    min_encoder_length = max_encoder_length,\n",
    "    min_prediction_length = max_prediction_length,\n",
    "    max_prediction_length = max_prediction_length,\n",
    "    time_idx = 'time_idx',\n",
    "    group_ids = ['group_ids'],\n",
    "    target = 'values',\n",
    "    time_varying_unknown_reals=['values'],\n",
    "    time_varying_known_reals=[\"time_idx\",\"new_sub_pred\"]\n",
    ")\n"
   ]
  },
  {
   "cell_type": "code",
   "execution_count": 23,
   "id": "4e86f9ba",
   "metadata": {},
   "outputs": [],
   "source": [
    "batch_size = 4\n",
    "final_train_dataloader = final_training.to_dataloader(\n",
    "    train=True, batch_size=batch_size, num_workers=0\n",
    ")"
   ]
  },
  {
   "cell_type": "code",
   "execution_count": 24,
   "id": "de2b6031",
   "metadata": {},
   "outputs": [
    {
     "name": "stderr",
     "output_type": "stream",
     "text": [
      "/home/sjlee/sj_virtual/lib/python3.8/site-packages/pytorch_lightning/trainer/connectors/accelerator_connector.py:441: LightningDeprecationWarning: Setting `Trainer(gpus=[0])` is deprecated in v1.7 and will be removed in v2.0. Please use `Trainer(accelerator='gpu', devices=[0])` instead.\n",
      "  rank_zero_deprecation(\n",
      "GPU available: True (cuda), used: True\n",
      "TPU available: False, using: 0 TPU cores\n",
      "IPU available: False, using: 0 IPUs\n",
      "HPU available: False, using: 0 HPUs\n"
     ]
    }
   ],
   "source": [
    "from pytorch_lightning.callbacks import LearningRateFinder,EarlyStopping\n",
    "import pytorch_lightning as pl\n",
    "early_stopping = EarlyStopping(monitor = 'train_loss', min_delta = 1e-2,\n",
    "                               patience = 10, verbose = True, mode = \"min\")\n",
    "lr_find = LearningRateFinder(min_lr = 1e-10,\n",
    "                            max_lr = 1,early_stop_threshold=10)\n",
    "trainer = pl.Trainer(\n",
    "    gpus=[0],\n",
    "    gradient_clip_val=0.1,\n",
    "    max_epochs=30,\n",
    "    callbacks=[early_stopping,lr_find]\n",
    ")"
   ]
  },
  {
   "cell_type": "code",
   "execution_count": 25,
   "id": "4ed9e561",
   "metadata": {},
   "outputs": [
    {
     "name": "stderr",
     "output_type": "stream",
     "text": [
      "/home/sjlee/sj_virtual/lib/python3.8/site-packages/pytorch_lightning/utilities/parsing.py:262: UserWarning: Attribute 'loss' is an instance of `nn.Module` and is already saved during checkpointing. It is recommended to ignore them using `self.save_hyperparameters(ignore=['loss'])`.\n",
      "  rank_zero_warn(\n",
      "/home/sjlee/sj_virtual/lib/python3.8/site-packages/pytorch_lightning/utilities/parsing.py:262: UserWarning: Attribute 'logging_metrics' is an instance of `nn.Module` and is already saved during checkpointing. It is recommended to ignore them using `self.save_hyperparameters(ignore=['logging_metrics'])`.\n",
      "  rank_zero_warn(\n"
     ]
    }
   ],
   "source": [
    "net = DeepAR.from_dataset(final_training,\n",
    "                         rnn_layers = 2,\n",
    "                         hidden_size = 16,\n",
    "                         optimizer = 'adam',\n",
    "                        time_varying_reals_encoder=[\"values\",\"time_idx\",\"new_sub_pred\"],\n",
    "                        time_varying_reals_decoder=[\"time_idx\",\"new_sub_pred\"]\n",
    "                         )\n"
   ]
  },
  {
   "cell_type": "code",
   "execution_count": null,
   "id": "62db4238",
   "metadata": {},
   "outputs": [],
   "source": [
    "model = trainer.fit(net,\n",
    "                    final_train_dataloader)"
   ]
  },
  {
   "cell_type": "code",
   "execution_count": null,
   "id": "3ee35626",
   "metadata": {},
   "outputs": [],
   "source": [
    "best_model_path = trainer.checkpoint_callback.best_model_path\n",
    "best_model_path"
   ]
  },
  {
   "cell_type": "code",
   "execution_count": 37,
   "id": "a1323aba",
   "metadata": {},
   "outputs": [
    {
     "name": "stderr",
     "output_type": "stream",
     "text": [
      "/home/sjlee/sj_virtual/lib/python3.8/site-packages/pytorch_lightning/utilities/parsing.py:262: UserWarning: Attribute 'loss' is an instance of `nn.Module` and is already saved during checkpointing. It is recommended to ignore them using `self.save_hyperparameters(ignore=['loss'])`.\n",
      "  rank_zero_warn(\n",
      "/home/sjlee/sj_virtual/lib/python3.8/site-packages/pytorch_lightning/utilities/parsing.py:262: UserWarning: Attribute 'logging_metrics' is an instance of `nn.Module` and is already saved during checkpointing. It is recommended to ignore them using `self.save_hyperparameters(ignore=['logging_metrics'])`.\n",
      "  rank_zero_warn(\n"
     ]
    }
   ],
   "source": [
    "best_model = DeepAR.load_from_checkpoint(best_model_path)"
   ]
  },
  {
   "cell_type": "code",
   "execution_count": 38,
   "id": "36c597af",
   "metadata": {},
   "outputs": [],
   "source": [
    "datetime=pd.date_range(start='2018-08-21 00:00:00',periods = 1440,freq='T')"
   ]
  },
  {
   "cell_type": "code",
   "execution_count": 39,
   "id": "584f19a3",
   "metadata": {},
   "outputs": [
    {
     "data": {
      "text/html": [
       "<div>\n",
       "<style scoped>\n",
       "    .dataframe tbody tr th:only-of-type {\n",
       "        vertical-align: middle;\n",
       "    }\n",
       "\n",
       "    .dataframe tbody tr th {\n",
       "        vertical-align: top;\n",
       "    }\n",
       "\n",
       "    .dataframe thead th {\n",
       "        text-align: right;\n",
       "    }\n",
       "</style>\n",
       "<table border=\"1\" class=\"dataframe\">\n",
       "  <thead>\n",
       "    <tr style=\"text-align: right;\">\n",
       "      <th></th>\n",
       "      <th>group_ids</th>\n",
       "      <th>datetime</th>\n",
       "      <th>volumn</th>\n",
       "      <th>time_idx</th>\n",
       "      <th>new_sub_pred</th>\n",
       "    </tr>\n",
       "  </thead>\n",
       "  <tbody>\n",
       "    <tr>\n",
       "      <th>0</th>\n",
       "      <td>0</td>\n",
       "      <td>2018-08-19 00:00:00</td>\n",
       "      <td>94479.0</td>\n",
       "      <td>36000</td>\n",
       "      <td>1</td>\n",
       "    </tr>\n",
       "    <tr>\n",
       "      <th>1</th>\n",
       "      <td>0</td>\n",
       "      <td>2018-08-19 00:01:00</td>\n",
       "      <td>94558.0</td>\n",
       "      <td>36001</td>\n",
       "      <td>2</td>\n",
       "    </tr>\n",
       "    <tr>\n",
       "      <th>2</th>\n",
       "      <td>0</td>\n",
       "      <td>2018-08-19 00:02:00</td>\n",
       "      <td>93968.0</td>\n",
       "      <td>36002</td>\n",
       "      <td>3</td>\n",
       "    </tr>\n",
       "    <tr>\n",
       "      <th>3</th>\n",
       "      <td>0</td>\n",
       "      <td>2018-08-19 00:03:00</td>\n",
       "      <td>92061.0</td>\n",
       "      <td>36003</td>\n",
       "      <td>4</td>\n",
       "    </tr>\n",
       "    <tr>\n",
       "      <th>4</th>\n",
       "      <td>0</td>\n",
       "      <td>2018-08-19 00:04:00</td>\n",
       "      <td>90326.0</td>\n",
       "      <td>36004</td>\n",
       "      <td>5</td>\n",
       "    </tr>\n",
       "    <tr>\n",
       "      <th>...</th>\n",
       "      <td>...</td>\n",
       "      <td>...</td>\n",
       "      <td>...</td>\n",
       "      <td>...</td>\n",
       "      <td>...</td>\n",
       "    </tr>\n",
       "    <tr>\n",
       "      <th>4315</th>\n",
       "      <td>0</td>\n",
       "      <td>2018-08-21 23:55:00</td>\n",
       "      <td>81236.0</td>\n",
       "      <td>40315</td>\n",
       "      <td>1436</td>\n",
       "    </tr>\n",
       "    <tr>\n",
       "      <th>4316</th>\n",
       "      <td>0</td>\n",
       "      <td>2018-08-21 23:56:00</td>\n",
       "      <td>81236.0</td>\n",
       "      <td>40316</td>\n",
       "      <td>1437</td>\n",
       "    </tr>\n",
       "    <tr>\n",
       "      <th>4317</th>\n",
       "      <td>0</td>\n",
       "      <td>2018-08-21 23:57:00</td>\n",
       "      <td>81236.0</td>\n",
       "      <td>40317</td>\n",
       "      <td>1438</td>\n",
       "    </tr>\n",
       "    <tr>\n",
       "      <th>4318</th>\n",
       "      <td>0</td>\n",
       "      <td>2018-08-21 23:58:00</td>\n",
       "      <td>81236.0</td>\n",
       "      <td>40318</td>\n",
       "      <td>1439</td>\n",
       "    </tr>\n",
       "    <tr>\n",
       "      <th>4319</th>\n",
       "      <td>0</td>\n",
       "      <td>2018-08-21 23:59:00</td>\n",
       "      <td>81236.0</td>\n",
       "      <td>40319</td>\n",
       "      <td>1440</td>\n",
       "    </tr>\n",
       "  </tbody>\n",
       "</table>\n",
       "<p>4320 rows × 5 columns</p>\n",
       "</div>"
      ],
      "text/plain": [
       "     group_ids            datetime   volumn  time_idx  new_sub_pred\n",
       "0            0 2018-08-19 00:00:00  94479.0     36000             1\n",
       "1            0 2018-08-19 00:01:00  94558.0     36001             2\n",
       "2            0 2018-08-19 00:02:00  93968.0     36002             3\n",
       "3            0 2018-08-19 00:03:00  92061.0     36003             4\n",
       "4            0 2018-08-19 00:04:00  90326.0     36004             5\n",
       "...        ...                 ...      ...       ...           ...\n",
       "4315         0 2018-08-21 23:55:00  81236.0     40315          1436\n",
       "4316         0 2018-08-21 23:56:00  81236.0     40316          1437\n",
       "4317         0 2018-08-21 23:57:00  81236.0     40317          1438\n",
       "4318         0 2018-08-21 23:58:00  81236.0     40318          1439\n",
       "4319         0 2018-08-21 23:59:00  81236.0     40319          1440\n",
       "\n",
       "[4320 rows x 5 columns]"
      ]
     },
     "execution_count": 39,
     "metadata": {},
     "output_type": "execute_result"
    }
   ],
   "source": [
    "# 우리는 known covariate data가 없으므로\n",
    "new_decoder_data = pd.DataFrame({'group_ids':np.repeat('0',max_prediction_length),\n",
    "                               'datetime':datetime,\n",
    "                               'values':np.repeat(data['values'].iloc[-1],max_prediction_length),\n",
    "                               'time_idx':np.arange(38880,38880+max_prediction_length),\n",
    "                                'new_sub_pred':np.tile(np.arange(1,1441),1)})\n",
    "new_encoder_data = data[lambda x: x['time_idx'] > (x['time_idx'].max() - max_encoder_length)]\n",
    "new_prediction_data = pd.concat([new_encoder_data,new_decoder_data],ignore_index=True,axis=0)\n",
    "new_prediction_data"
   ]
  },
  {
   "cell_type": "code",
   "execution_count": 40,
   "id": "c3992aed",
   "metadata": {},
   "outputs": [
    {
     "data": {
      "text/plain": [
       "Output(prediction=tensor([[[81314.4453, 82656.1016, 75415.2812,  ..., 77612.2266,\n",
       "          77733.4375, 81302.4453],\n",
       "         [80893.0000, 82750.8125, 79552.1875,  ..., 78148.3203,\n",
       "          76653.3750, 78142.1719],\n",
       "         [81236.5234, 83731.6406, 79589.4688,  ..., 78876.0312,\n",
       "          78835.4531, 79997.4453],\n",
       "         ...,\n",
       "         [63202.9375, 71743.2812, 52002.7969,  ..., 57101.3125,\n",
       "          54442.8438, 50959.9531],\n",
       "         [64282.1562, 71539.6953, 53179.2812,  ..., 56584.2500,\n",
       "          55646.5469, 50222.2656],\n",
       "         [63982.6562, 68907.1406, 52568.6250,  ..., 56832.4688,\n",
       "          52166.5156, 51885.7500]]]))"
      ]
     },
     "execution_count": 40,
     "metadata": {},
     "output_type": "execute_result"
    }
   ],
   "source": [
    "new_raw_pred,x=best_model.predict(new_prediction_data , mode='raw',return_x=True)\n",
    "new_raw_pred"
   ]
  },
  {
   "cell_type": "code",
   "execution_count": 41,
   "id": "c9d0d9e5",
   "metadata": {},
   "outputs": [
    {
     "data": {
      "image/png": "[encoded data removed]",
      "text/plain": [
       "<Figure size 640x480 with 1 Axes>"
      ]
     },
     "metadata": {},
     "output_type": "display_data"
    }
   ],
   "source": [
    "best_model.plot_prediction(x,new_raw_pred,idx=0, show_future_observed = False);\n",
    "# batchsize=4 epoch를 15번 돌았을때"
   ]
  },
  {
   "cell_type": "markdown",
   "id": "4d23d489",
   "metadata": {},
   "source": [
    "####################################################"
   ]
  },
  {
   "attachments": {
    "image-2.png": {
     "image/png": "[encoded data removed]"
    },
    "image.png": {
     "image/png": "[encoded data removed]"
    }
   },
   "cell_type": "markdown",
   "id": "065eb2b0",
   "metadata": {},
   "source": [
    "![image.png](attachment:image.png)\n",
    "위는 batchsize를 4로 하고 epoch를 1번 돌았을때의 그래프이다\n",
    "![image-2.png](attachment:image-2.png)\n",
    "위는 batchsize를 64로 하고 epoch를 29번 돌았을때의 그래프이다 왜 이런 차이가 발생했을까\n",
    "\n",
    "<font color=blue>\n",
    "professor opinion: 자연어처리와 같은 예시에서 이런경우가 발생하는데 자연어처리에서 batch size를 키우면 여러데이터중에 대표데이터 하나만 보려고 하는 경향이 생긴다 그거와 같은 논의로 생각해볼 수 있을것 같다</font>"
   ]
  },
  {
   "cell_type": "code",
   "execution_count": null,
   "id": "f3dcb989",
   "metadata": {},
   "outputs": [],
   "source": []
  }
 ],
 "metadata": {
  "kernelspec": {
   "display_name": "sj_virtual",
   "language": "python",
   "name": "myvenv"
  },
  "language_info": {
   "codemirror_mode": {
    "name": "ipython",
    "version": 3
   },
   "file_extension": ".py",
   "mimetype": "text/x-python",
   "name": "python",
   "nbconvert_exporter": "python",
   "pygments_lexer": "ipython3",
   "version": "3.8.10"
  },
  "varInspector": {
   "cols": {
    "lenName": 16,
    "lenType": 16,
    "lenVar": 40
   },
   "kernels_config": {
    "python": {
     "delete_cmd_postfix": "",
     "delete_cmd_prefix": "del ",
     "library": "var_list.py",
     "varRefreshCmd": "print(var_dic_list())"
    },
    "r": {
     "delete_cmd_postfix": ") ",
     "delete_cmd_prefix": "rm(",
     "library": "var_list.r",
     "varRefreshCmd": "cat(var_dic_list()) "
    }
   },
   "types_to_exclude": [
    "module",
    "function",
    "builtin_function_or_method",
    "instance",
    "_Feature"
   ],
   "window_display": false
  }
 },
 "nbformat": 4,
 "nbformat_minor": 5
}
